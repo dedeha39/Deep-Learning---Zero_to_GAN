{
 "cells": [
  {
   "cell_type": "markdown",
   "metadata": {
    "_cell_guid": "b1076dfc-b9ad-4769-8c92-a6c4dae69d19",
    "_uuid": "8f2839f25d086af736a60e9eeb907d3b93b6e0e5",
    "id": "ecOkSJEt3fxb"
   },
   "source": [
    "# Insurance cost prediction using linear regression\n",
    "\n",
    "Make a submisson here: https://jovian.ai/learn/deep-learning-with-pytorch-zero-to-gans/assignment/assignment-2-train-your-first-model\n",
    "\n",
    "In this assignment we're going to use information like a person's age, sex, BMI, no. of children and smoking habit to predict the price of yearly medical bills. This kind of model is useful for insurance companies to determine the yearly insurance premium for a person. The dataset for this problem is taken from [Kaggle](https://www.kaggle.com/mirichoi0218/insurance).\n",
    "\n",
    "\n",
    "We will create a model with the following steps:\n",
    "1. Download and explore the dataset\n",
    "2. Prepare the dataset for training\n",
    "3. Create a linear regression model\n",
    "4. Train the model to fit the data\n",
    "5. Make predictions using the trained model\n",
    "\n",
    "\n",
    "This assignment builds upon the concepts from the first 2 lessons. It will help to review these Jupyter notebooks:\n",
    "- PyTorch basics: https://jovian.ai/aakashns/01-pytorch-basics\n",
    "- Linear Regression: https://jovian.ai/aakashns/02-linear-regression\n",
    "- Logistic Regression: https://jovian.ai/aakashns/03-logistic-regression\n",
    "- Linear regression (minimal): https://jovian.ai/aakashns/housing-linear-minimal\n",
    "- Logistic regression (minimal): https://jovian.ai/aakashns/mnist-logistic-minimal\n",
    "\n",
    "As you go through this notebook, you will find a **???** in certain places. Your job is to replace the **???** with appropriate code or values, to ensure that the notebook runs properly end-to-end . In some cases, you'll be required to choose some hyperparameters (learning rate, batch size etc.). Try to experiment with the hypeparameters to get the lowest loss.\n"
   ]
  },
  {
   "cell_type": "code",
   "execution_count": 2,
   "metadata": {
    "executionInfo": {
     "elapsed": 391,
     "status": "ok",
     "timestamp": 1671898216322,
     "user": {
      "displayName": "İsmail Deha Köse",
      "userId": "09326867760017459570"
     },
     "user_tz": -60
    },
    "id": "tcuX6E1g3fxg"
   },
   "outputs": [],
   "source": [
    "# Uncomment and run the appropriate command for your operating system, if required\n",
    "\n",
    "# Linux / Binder\n",
    "# !pip install numpy matplotlib pandas torch==1.7.0+cpu torchvision==0.8.1+cpu torchaudio==0.7.0 -f https://download.pytorch.org/whl/torch_stable.html\n",
    "\n",
    "# Windows\n",
    "# !pip install numpy matplotlib pandas torch==1.7.0+cpu torchvision==0.8.1+cpu torchaudio==0.7.0 -f https://download.pytorch.org/whl/torch_stable.html\n",
    "\n",
    "# MacOS\n",
    "# !pip install numpy matplotlib pandas torch torchvision torchaudio"
   ]
  },
  {
   "cell_type": "code",
   "execution_count": 3,
   "metadata": {
    "executionInfo": {
     "elapsed": 37,
     "status": "ok",
     "timestamp": 1671898216776,
     "user": {
      "displayName": "İsmail Deha Köse",
      "userId": "09326867760017459570"
     },
     "user_tz": -60
    },
    "id": "OMYRmy8k3fxj"
   },
   "outputs": [],
   "source": [
    "import torch\n",
    "import jovian\n",
    "import torchvision\n",
    "import torch.nn as nn\n",
    "import pandas as pd\n",
    "import matplotlib.pyplot as plt\n",
    "import torch.nn.functional as F\n",
    "from torchvision.datasets.utils import download_url\n",
    "from torch.utils.data import DataLoader, TensorDataset, random_split"
   ]
  },
  {
   "cell_type": "code",
   "execution_count": 4,
   "metadata": {
    "executionInfo": {
     "elapsed": 37,
     "status": "ok",
     "timestamp": 1671898216777,
     "user": {
      "displayName": "İsmail Deha Köse",
      "userId": "09326867760017459570"
     },
     "user_tz": -60
    },
    "id": "79zwUv5s3fxm"
   },
   "outputs": [],
   "source": [
    "project_name='02-insurance-linear-regression' # will be used by jovian.commit"
   ]
  },
  {
   "cell_type": "markdown",
   "metadata": {
    "id": "_XaFearU3fxn"
   },
   "source": [
    "## Step 1: Download and explore the data\n",
    "\n",
    "Let us begin by downloading the data. We'll use the `download_url` function from PyTorch to get the data as a CSV (comma-separated values) file. "
   ]
  },
  {
   "cell_type": "code",
   "execution_count": 5,
   "metadata": {
    "_cell_guid": "79c7e3d0-c299-4dcb-8224-4455121ee9b0",
    "_uuid": "d629ff2d2480ee46fbb7e2d37f6b5fab8052498a",
    "colab": {
     "base_uri": "https://localhost:8080/"
    },
    "executionInfo": {
     "elapsed": 37,
     "status": "ok",
     "timestamp": 1671898216778,
     "user": {
      "displayName": "İsmail Deha Köse",
      "userId": "09326867760017459570"
     },
     "user_tz": -60
    },
    "id": "gRS3rhZo3fxp",
    "outputId": "ce2ada71-a44c-403b-89a6-fbcbb33fc78e"
   },
   "outputs": [
    {
     "name": "stdout",
     "output_type": "stream",
     "text": [
      "Using downloaded and verified file: ./insurance.csv\n"
     ]
    }
   ],
   "source": [
    "DATASET_URL = \"https://gist.github.com/BirajCoder/5f068dfe759c1ea6bdfce9535acdb72d/raw/c84d84e3c80f93be67f6c069cbdc0195ec36acbd/insurance.csv\"\n",
    "DATA_FILENAME = \"insurance.csv\"\n",
    "download_url(DATASET_URL, '.')"
   ]
  },
  {
   "cell_type": "markdown",
   "metadata": {
    "id": "zzpDkDQy3fxq"
   },
   "source": [
    "To load the dataset into memory, we'll use the `read_csv` function from the `pandas` library. The data will be loaded as a Pandas dataframe. See this short tutorial to learn more: https://data36.com/pandas-tutorial-1-basics-reading-data-files-dataframes-data-selection/"
   ]
  },
  {
   "cell_type": "code",
   "execution_count": 6,
   "metadata": {
    "colab": {
     "base_uri": "https://localhost:8080/",
     "height": 206
    },
    "executionInfo": {
     "elapsed": 34,
     "status": "ok",
     "timestamp": 1671898216779,
     "user": {
      "displayName": "İsmail Deha Köse",
      "userId": "09326867760017459570"
     },
     "user_tz": -60
    },
    "id": "XyYw5dKj3fxr",
    "outputId": "f2966f32-1f60-41d8-91a1-945a4d5032bd"
   },
   "outputs": [
    {
     "data": {
      "text/html": [
       "\n",
       "  <div id=\"df-18669f2f-8f12-4d85-b877-c4a01f4b4170\">\n",
       "    <div class=\"colab-df-container\">\n",
       "      <div>\n",
       "<style scoped>\n",
       "    .dataframe tbody tr th:only-of-type {\n",
       "        vertical-align: middle;\n",
       "    }\n",
       "\n",
       "    .dataframe tbody tr th {\n",
       "        vertical-align: top;\n",
       "    }\n",
       "\n",
       "    .dataframe thead th {\n",
       "        text-align: right;\n",
       "    }\n",
       "</style>\n",
       "<table border=\"1\" class=\"dataframe\">\n",
       "  <thead>\n",
       "    <tr style=\"text-align: right;\">\n",
       "      <th></th>\n",
       "      <th>age</th>\n",
       "      <th>sex</th>\n",
       "      <th>bmi</th>\n",
       "      <th>children</th>\n",
       "      <th>smoker</th>\n",
       "      <th>region</th>\n",
       "      <th>charges</th>\n",
       "    </tr>\n",
       "  </thead>\n",
       "  <tbody>\n",
       "    <tr>\n",
       "      <th>0</th>\n",
       "      <td>19</td>\n",
       "      <td>female</td>\n",
       "      <td>27.900</td>\n",
       "      <td>0</td>\n",
       "      <td>yes</td>\n",
       "      <td>southwest</td>\n",
       "      <td>16884.92400</td>\n",
       "    </tr>\n",
       "    <tr>\n",
       "      <th>1</th>\n",
       "      <td>18</td>\n",
       "      <td>male</td>\n",
       "      <td>33.770</td>\n",
       "      <td>1</td>\n",
       "      <td>no</td>\n",
       "      <td>southeast</td>\n",
       "      <td>1725.55230</td>\n",
       "    </tr>\n",
       "    <tr>\n",
       "      <th>2</th>\n",
       "      <td>28</td>\n",
       "      <td>male</td>\n",
       "      <td>33.000</td>\n",
       "      <td>3</td>\n",
       "      <td>no</td>\n",
       "      <td>southeast</td>\n",
       "      <td>4449.46200</td>\n",
       "    </tr>\n",
       "    <tr>\n",
       "      <th>3</th>\n",
       "      <td>33</td>\n",
       "      <td>male</td>\n",
       "      <td>22.705</td>\n",
       "      <td>0</td>\n",
       "      <td>no</td>\n",
       "      <td>northwest</td>\n",
       "      <td>21984.47061</td>\n",
       "    </tr>\n",
       "    <tr>\n",
       "      <th>4</th>\n",
       "      <td>32</td>\n",
       "      <td>male</td>\n",
       "      <td>28.880</td>\n",
       "      <td>0</td>\n",
       "      <td>no</td>\n",
       "      <td>northwest</td>\n",
       "      <td>3866.85520</td>\n",
       "    </tr>\n",
       "  </tbody>\n",
       "</table>\n",
       "</div>\n",
       "      <button class=\"colab-df-convert\" onclick=\"convertToInteractive('df-18669f2f-8f12-4d85-b877-c4a01f4b4170')\"\n",
       "              title=\"Convert this dataframe to an interactive table.\"\n",
       "              style=\"display:none;\">\n",
       "        \n",
       "  <svg xmlns=\"http://www.w3.org/2000/svg\" height=\"24px\"viewBox=\"0 0 24 24\"\n",
       "       width=\"24px\">\n",
       "    <path d=\"M0 0h24v24H0V0z\" fill=\"none\"/>\n",
       "    <path d=\"M18.56 5.44l.94 2.06.94-2.06 2.06-.94-2.06-.94-.94-2.06-.94 2.06-2.06.94zm-11 1L8.5 8.5l.94-2.06 2.06-.94-2.06-.94L8.5 2.5l-.94 2.06-2.06.94zm10 10l.94 2.06.94-2.06 2.06-.94-2.06-.94-.94-2.06-.94 2.06-2.06.94z\"/><path d=\"M17.41 7.96l-1.37-1.37c-.4-.4-.92-.59-1.43-.59-.52 0-1.04.2-1.43.59L10.3 9.45l-7.72 7.72c-.78.78-.78 2.05 0 2.83L4 21.41c.39.39.9.59 1.41.59.51 0 1.02-.2 1.41-.59l7.78-7.78 2.81-2.81c.8-.78.8-2.07 0-2.86zM5.41 20L4 18.59l7.72-7.72 1.47 1.35L5.41 20z\"/>\n",
       "  </svg>\n",
       "      </button>\n",
       "      \n",
       "  <style>\n",
       "    .colab-df-container {\n",
       "      display:flex;\n",
       "      flex-wrap:wrap;\n",
       "      gap: 12px;\n",
       "    }\n",
       "\n",
       "    .colab-df-convert {\n",
       "      background-color: #E8F0FE;\n",
       "      border: none;\n",
       "      border-radius: 50%;\n",
       "      cursor: pointer;\n",
       "      display: none;\n",
       "      fill: #1967D2;\n",
       "      height: 32px;\n",
       "      padding: 0 0 0 0;\n",
       "      width: 32px;\n",
       "    }\n",
       "\n",
       "    .colab-df-convert:hover {\n",
       "      background-color: #E2EBFA;\n",
       "      box-shadow: 0px 1px 2px rgba(60, 64, 67, 0.3), 0px 1px 3px 1px rgba(60, 64, 67, 0.15);\n",
       "      fill: #174EA6;\n",
       "    }\n",
       "\n",
       "    [theme=dark] .colab-df-convert {\n",
       "      background-color: #3B4455;\n",
       "      fill: #D2E3FC;\n",
       "    }\n",
       "\n",
       "    [theme=dark] .colab-df-convert:hover {\n",
       "      background-color: #434B5C;\n",
       "      box-shadow: 0px 1px 3px 1px rgba(0, 0, 0, 0.15);\n",
       "      filter: drop-shadow(0px 1px 2px rgba(0, 0, 0, 0.3));\n",
       "      fill: #FFFFFF;\n",
       "    }\n",
       "  </style>\n",
       "\n",
       "      <script>\n",
       "        const buttonEl =\n",
       "          document.querySelector('#df-18669f2f-8f12-4d85-b877-c4a01f4b4170 button.colab-df-convert');\n",
       "        buttonEl.style.display =\n",
       "          google.colab.kernel.accessAllowed ? 'block' : 'none';\n",
       "\n",
       "        async function convertToInteractive(key) {\n",
       "          const element = document.querySelector('#df-18669f2f-8f12-4d85-b877-c4a01f4b4170');\n",
       "          const dataTable =\n",
       "            await google.colab.kernel.invokeFunction('convertToInteractive',\n",
       "                                                     [key], {});\n",
       "          if (!dataTable) return;\n",
       "\n",
       "          const docLinkHtml = 'Like what you see? Visit the ' +\n",
       "            '<a target=\"_blank\" href=https://colab.research.google.com/notebooks/data_table.ipynb>data table notebook</a>'\n",
       "            + ' to learn more about interactive tables.';\n",
       "          element.innerHTML = '';\n",
       "          dataTable['output_type'] = 'display_data';\n",
       "          await google.colab.output.renderOutput(dataTable, element);\n",
       "          const docLink = document.createElement('div');\n",
       "          docLink.innerHTML = docLinkHtml;\n",
       "          element.appendChild(docLink);\n",
       "        }\n",
       "      </script>\n",
       "    </div>\n",
       "  </div>\n",
       "  "
      ],
      "text/plain": [
       "   age     sex     bmi  children smoker     region      charges\n",
       "0   19  female  27.900         0    yes  southwest  16884.92400\n",
       "1   18    male  33.770         1     no  southeast   1725.55230\n",
       "2   28    male  33.000         3     no  southeast   4449.46200\n",
       "3   33    male  22.705         0     no  northwest  21984.47061\n",
       "4   32    male  28.880         0     no  northwest   3866.85520"
      ]
     },
     "execution_count": 6,
     "metadata": {},
     "output_type": "execute_result"
    }
   ],
   "source": [
    "dataframe_raw = pd.read_csv(DATA_FILENAME)\n",
    "dataframe_raw.head()"
   ]
  },
  {
   "cell_type": "markdown",
   "metadata": {
    "id": "McaU4bcs3fxs"
   },
   "source": [
    "We're going to do a slight customization of the data, so that you every participant receives a slightly different version of the dataset. Fill in your name below as a string (enter at least 5 characters)"
   ]
  },
  {
   "cell_type": "code",
   "execution_count": 7,
   "metadata": {
    "executionInfo": {
     "elapsed": 32,
     "status": "ok",
     "timestamp": 1671898216779,
     "user": {
      "displayName": "İsmail Deha Köse",
      "userId": "09326867760017459570"
     },
     "user_tz": -60
    },
    "id": "Oli9vAKS3fxu"
   },
   "outputs": [],
   "source": [
    "your_name = \"ismail\" # at least 5 characters"
   ]
  },
  {
   "cell_type": "markdown",
   "metadata": {
    "id": "usMVvRqb3fxv"
   },
   "source": [
    "The `customize_dataset` function will customize the dataset slightly using your name as a source of random numbers."
   ]
  },
  {
   "cell_type": "code",
   "execution_count": 8,
   "metadata": {
    "executionInfo": {
     "elapsed": 32,
     "status": "ok",
     "timestamp": 1671898216780,
     "user": {
      "displayName": "İsmail Deha Köse",
      "userId": "09326867760017459570"
     },
     "user_tz": -60
    },
    "id": "8Kt8i9k83fxw"
   },
   "outputs": [],
   "source": [
    "def customize_dataset(dataframe_raw, rand_str):\n",
    "    dataframe = dataframe_raw.copy(deep=True)\n",
    "    # drop some rows\n",
    "    dataframe = dataframe.sample(int(0.95*len(dataframe)), random_state=int(ord(rand_str[0])))\n",
    "    # scale input\n",
    "    dataframe.bmi = dataframe.bmi * ord(rand_str[1])/100.\n",
    "    # scale target\n",
    "    dataframe.charges = dataframe.charges * ord(rand_str[2])/100.\n",
    "    # drop column\n",
    "    if ord(rand_str[3]) % 2 == 1:\n",
    "        dataframe = dataframe.drop(['region'], axis=1)\n",
    "    return dataframe"
   ]
  },
  {
   "cell_type": "code",
   "execution_count": 9,
   "metadata": {
    "colab": {
     "base_uri": "https://localhost:8080/",
     "height": 206
    },
    "executionInfo": {
     "elapsed": 32,
     "status": "ok",
     "timestamp": 1671898216780,
     "user": {
      "displayName": "İsmail Deha Köse",
      "userId": "09326867760017459570"
     },
     "user_tz": -60
    },
    "id": "izRPvx8v3fxy",
    "outputId": "2988e6e5-0e52-4ebc-d141-fc197805c1ef"
   },
   "outputs": [
    {
     "data": {
      "text/html": [
       "\n",
       "  <div id=\"df-04d3b801-ac9c-4fe9-bfd1-df90aeb377c1\">\n",
       "    <div class=\"colab-df-container\">\n",
       "      <div>\n",
       "<style scoped>\n",
       "    .dataframe tbody tr th:only-of-type {\n",
       "        vertical-align: middle;\n",
       "    }\n",
       "\n",
       "    .dataframe tbody tr th {\n",
       "        vertical-align: top;\n",
       "    }\n",
       "\n",
       "    .dataframe thead th {\n",
       "        text-align: right;\n",
       "    }\n",
       "</style>\n",
       "<table border=\"1\" class=\"dataframe\">\n",
       "  <thead>\n",
       "    <tr style=\"text-align: right;\">\n",
       "      <th></th>\n",
       "      <th>age</th>\n",
       "      <th>sex</th>\n",
       "      <th>bmi</th>\n",
       "      <th>children</th>\n",
       "      <th>smoker</th>\n",
       "      <th>charges</th>\n",
       "    </tr>\n",
       "  </thead>\n",
       "  <tbody>\n",
       "    <tr>\n",
       "      <th>964</th>\n",
       "      <td>52</td>\n",
       "      <td>male</td>\n",
       "      <td>42.27975</td>\n",
       "      <td>2</td>\n",
       "      <td>no</td>\n",
       "      <td>28849.136133</td>\n",
       "    </tr>\n",
       "    <tr>\n",
       "      <th>782</th>\n",
       "      <td>51</td>\n",
       "      <td>male</td>\n",
       "      <td>41.36550</td>\n",
       "      <td>1</td>\n",
       "      <td>no</td>\n",
       "      <td>10230.915817</td>\n",
       "    </tr>\n",
       "    <tr>\n",
       "      <th>557</th>\n",
       "      <td>34</td>\n",
       "      <td>male</td>\n",
       "      <td>39.34150</td>\n",
       "      <td>0</td>\n",
       "      <td>no</td>\n",
       "      <td>4289.346091</td>\n",
       "    </tr>\n",
       "    <tr>\n",
       "      <th>179</th>\n",
       "      <td>41</td>\n",
       "      <td>female</td>\n",
       "      <td>38.12825</td>\n",
       "      <td>3</td>\n",
       "      <td>no</td>\n",
       "      <td>9306.734411</td>\n",
       "    </tr>\n",
       "    <tr>\n",
       "      <th>478</th>\n",
       "      <td>21</td>\n",
       "      <td>male</td>\n",
       "      <td>42.37750</td>\n",
       "      <td>0</td>\n",
       "      <td>no</td>\n",
       "      <td>1672.391905</td>\n",
       "    </tr>\n",
       "  </tbody>\n",
       "</table>\n",
       "</div>\n",
       "      <button class=\"colab-df-convert\" onclick=\"convertToInteractive('df-04d3b801-ac9c-4fe9-bfd1-df90aeb377c1')\"\n",
       "              title=\"Convert this dataframe to an interactive table.\"\n",
       "              style=\"display:none;\">\n",
       "        \n",
       "  <svg xmlns=\"http://www.w3.org/2000/svg\" height=\"24px\"viewBox=\"0 0 24 24\"\n",
       "       width=\"24px\">\n",
       "    <path d=\"M0 0h24v24H0V0z\" fill=\"none\"/>\n",
       "    <path d=\"M18.56 5.44l.94 2.06.94-2.06 2.06-.94-2.06-.94-.94-2.06-.94 2.06-2.06.94zm-11 1L8.5 8.5l.94-2.06 2.06-.94-2.06-.94L8.5 2.5l-.94 2.06-2.06.94zm10 10l.94 2.06.94-2.06 2.06-.94-2.06-.94-.94-2.06-.94 2.06-2.06.94z\"/><path d=\"M17.41 7.96l-1.37-1.37c-.4-.4-.92-.59-1.43-.59-.52 0-1.04.2-1.43.59L10.3 9.45l-7.72 7.72c-.78.78-.78 2.05 0 2.83L4 21.41c.39.39.9.59 1.41.59.51 0 1.02-.2 1.41-.59l7.78-7.78 2.81-2.81c.8-.78.8-2.07 0-2.86zM5.41 20L4 18.59l7.72-7.72 1.47 1.35L5.41 20z\"/>\n",
       "  </svg>\n",
       "      </button>\n",
       "      \n",
       "  <style>\n",
       "    .colab-df-container {\n",
       "      display:flex;\n",
       "      flex-wrap:wrap;\n",
       "      gap: 12px;\n",
       "    }\n",
       "\n",
       "    .colab-df-convert {\n",
       "      background-color: #E8F0FE;\n",
       "      border: none;\n",
       "      border-radius: 50%;\n",
       "      cursor: pointer;\n",
       "      display: none;\n",
       "      fill: #1967D2;\n",
       "      height: 32px;\n",
       "      padding: 0 0 0 0;\n",
       "      width: 32px;\n",
       "    }\n",
       "\n",
       "    .colab-df-convert:hover {\n",
       "      background-color: #E2EBFA;\n",
       "      box-shadow: 0px 1px 2px rgba(60, 64, 67, 0.3), 0px 1px 3px 1px rgba(60, 64, 67, 0.15);\n",
       "      fill: #174EA6;\n",
       "    }\n",
       "\n",
       "    [theme=dark] .colab-df-convert {\n",
       "      background-color: #3B4455;\n",
       "      fill: #D2E3FC;\n",
       "    }\n",
       "\n",
       "    [theme=dark] .colab-df-convert:hover {\n",
       "      background-color: #434B5C;\n",
       "      box-shadow: 0px 1px 3px 1px rgba(0, 0, 0, 0.15);\n",
       "      filter: drop-shadow(0px 1px 2px rgba(0, 0, 0, 0.3));\n",
       "      fill: #FFFFFF;\n",
       "    }\n",
       "  </style>\n",
       "\n",
       "      <script>\n",
       "        const buttonEl =\n",
       "          document.querySelector('#df-04d3b801-ac9c-4fe9-bfd1-df90aeb377c1 button.colab-df-convert');\n",
       "        buttonEl.style.display =\n",
       "          google.colab.kernel.accessAllowed ? 'block' : 'none';\n",
       "\n",
       "        async function convertToInteractive(key) {\n",
       "          const element = document.querySelector('#df-04d3b801-ac9c-4fe9-bfd1-df90aeb377c1');\n",
       "          const dataTable =\n",
       "            await google.colab.kernel.invokeFunction('convertToInteractive',\n",
       "                                                     [key], {});\n",
       "          if (!dataTable) return;\n",
       "\n",
       "          const docLinkHtml = 'Like what you see? Visit the ' +\n",
       "            '<a target=\"_blank\" href=https://colab.research.google.com/notebooks/data_table.ipynb>data table notebook</a>'\n",
       "            + ' to learn more about interactive tables.';\n",
       "          element.innerHTML = '';\n",
       "          dataTable['output_type'] = 'display_data';\n",
       "          await google.colab.output.renderOutput(dataTable, element);\n",
       "          const docLink = document.createElement('div');\n",
       "          docLink.innerHTML = docLinkHtml;\n",
       "          element.appendChild(docLink);\n",
       "        }\n",
       "      </script>\n",
       "    </div>\n",
       "  </div>\n",
       "  "
      ],
      "text/plain": [
       "     age     sex       bmi  children smoker       charges\n",
       "964   52    male  42.27975         2     no  28849.136133\n",
       "782   51    male  41.36550         1     no  10230.915817\n",
       "557   34    male  39.34150         0     no   4289.346091\n",
       "179   41  female  38.12825         3     no   9306.734411\n",
       "478   21    male  42.37750         0     no   1672.391905"
      ]
     },
     "execution_count": 9,
     "metadata": {},
     "output_type": "execute_result"
    }
   ],
   "source": [
    "dataframe = customize_dataset(dataframe_raw, your_name)\n",
    "dataframe.head()"
   ]
  },
  {
   "cell_type": "markdown",
   "metadata": {
    "id": "AqOk_cPk3fxz"
   },
   "source": [
    "Let us answer some basic questions about the dataset. \n",
    "\n",
    "\n",
    "**Q1: How many rows does the dataset have?**"
   ]
  },
  {
   "cell_type": "code",
   "execution_count": 10,
   "metadata": {
    "colab": {
     "base_uri": "https://localhost:8080/"
    },
    "executionInfo": {
     "elapsed": 31,
     "status": "ok",
     "timestamp": 1671898216781,
     "user": {
      "displayName": "İsmail Deha Köse",
      "userId": "09326867760017459570"
     },
     "user_tz": -60
    },
    "id": "5TkOG7Km3fx0",
    "outputId": "10c44a89-8de6-4f6c-e1ba-1e3957a43163"
   },
   "outputs": [
    {
     "name": "stdout",
     "output_type": "stream",
     "text": [
      "1271\n"
     ]
    }
   ],
   "source": [
    "num_rows = dataframe.shape[0]\n",
    "print(num_rows)"
   ]
  },
  {
   "cell_type": "markdown",
   "metadata": {
    "id": "wHkbdjS33fx1"
   },
   "source": [
    "**Q2: How many columns doe the dataset have**"
   ]
  },
  {
   "cell_type": "code",
   "execution_count": 11,
   "metadata": {
    "colab": {
     "base_uri": "https://localhost:8080/"
    },
    "executionInfo": {
     "elapsed": 27,
     "status": "ok",
     "timestamp": 1671898216781,
     "user": {
      "displayName": "İsmail Deha Köse",
      "userId": "09326867760017459570"
     },
     "user_tz": -60
    },
    "id": "DfgzUu4F3fx2",
    "outputId": "4231f45b-d7d7-4967-dcf6-e67430c4c893"
   },
   "outputs": [
    {
     "name": "stdout",
     "output_type": "stream",
     "text": [
      "6\n"
     ]
    }
   ],
   "source": [
    "num_cols = dataframe.shape[1]\n",
    "print(num_cols)"
   ]
  },
  {
   "cell_type": "markdown",
   "metadata": {
    "id": "oNDcFW9f3fx3"
   },
   "source": [
    "**Q3: What are the column titles of the input variables?**"
   ]
  },
  {
   "cell_type": "code",
   "execution_count": 12,
   "metadata": {
    "executionInfo": {
     "elapsed": 24,
     "status": "ok",
     "timestamp": 1671898216782,
     "user": {
      "displayName": "İsmail Deha Köse",
      "userId": "09326867760017459570"
     },
     "user_tz": -60
    },
    "id": "Q43kq6tL3fx4"
   },
   "outputs": [],
   "source": [
    "input_cols = [\"age\",\"sex\",\"bmi\",\"children\",\"smoker\"]"
   ]
  },
  {
   "cell_type": "markdown",
   "metadata": {
    "id": "9J0mGzq53fx4"
   },
   "source": [
    "**Q4: Which of the input columns are non-numeric or categorial variables ?**\n",
    "\n",
    "Hint: `sex` is one of them. List the columns that are not numbers."
   ]
  },
  {
   "cell_type": "code",
   "execution_count": 13,
   "metadata": {
    "executionInfo": {
     "elapsed": 24,
     "status": "ok",
     "timestamp": 1671898216783,
     "user": {
      "displayName": "İsmail Deha Köse",
      "userId": "09326867760017459570"
     },
     "user_tz": -60
    },
    "id": "V7nO92Js3fx5"
   },
   "outputs": [],
   "source": [
    "categorical_cols = [\"sex\",\"smoker\"]"
   ]
  },
  {
   "cell_type": "markdown",
   "metadata": {
    "id": "44FS2oxt3fx5"
   },
   "source": [
    "**Q5: What are the column titles of output/target variable(s)?**"
   ]
  },
  {
   "cell_type": "code",
   "execution_count": 14,
   "metadata": {
    "executionInfo": {
     "elapsed": 24,
     "status": "ok",
     "timestamp": 1671898216783,
     "user": {
      "displayName": "İsmail Deha Köse",
      "userId": "09326867760017459570"
     },
     "user_tz": -60
    },
    "id": "BalAzNJr3fx6"
   },
   "outputs": [],
   "source": [
    "output_cols = [\"charges\"]"
   ]
  },
  {
   "cell_type": "markdown",
   "metadata": {
    "id": "a8k15Qa03fx6"
   },
   "source": [
    "**Q: (Optional) What is the minimum, maximum and average value of the `charges` column? Can you show the distribution of values in a graph?**\n",
    "Use this data visualization cheatsheet for referece: https://jovian.ai/aakashns/dataviz-cheatsheet"
   ]
  },
  {
   "cell_type": "code",
   "execution_count": 15,
   "metadata": {
    "colab": {
     "base_uri": "https://localhost:8080/",
     "height": 331
    },
    "executionInfo": {
     "elapsed": 696,
     "status": "ok",
     "timestamp": 1671898217456,
     "user": {
      "displayName": "İsmail Deha Köse",
      "userId": "09326867760017459570"
     },
     "user_tz": -60
    },
    "id": "yFB9DN_j3fx7",
    "outputId": "10e3978f-9000-4f3f-e84b-e822d7136827"
   },
   "outputs": [
    {
     "name": "stdout",
     "output_type": "stream",
     "text": [
      "Min charges :  1222.8425510000002\n",
      "Max charges : 68226.23166810001\n",
      "Average charges : 14498.382165888912\n"
     ]
    },
    {
     "data": {
      "image/png": "[encoded data removed]",
      "text/plain": [
       "<Figure size 432x288 with 1 Axes>"
      ]
     },
     "metadata": {
      "needs_background": "light"
     },
     "output_type": "display_data"
    }
   ],
   "source": [
    "#Min charges\n",
    "MinC=dataframe['charges'].min()\n",
    "#Max charge\n",
    "MaxC=dataframe['charges'].max()\n",
    "#Average charge\n",
    "AvgC=dataframe['charges'].mean()\n",
    "print('Min charges : ',MinC)\n",
    "print('Max charges :',MaxC)\n",
    "print('Average charges :',AvgC)\n",
    "plt.hist(dataframe['charges'])\n",
    "plt.xlabel('Charges')\n",
    "plt.ylabel('Frequency')\n",
    "plt.show()\n",
    "\n"
   ]
  },
  {
   "cell_type": "markdown",
   "metadata": {
    "id": "ljuwmDSs3fx8"
   },
   "source": [
    "Remember to commit your notebook to Jovian after every step, so that you don't lose your work."
   ]
  },
  {
   "cell_type": "code",
   "execution_count": 16,
   "metadata": {
    "executionInfo": {
     "elapsed": 7944,
     "status": "ok",
     "timestamp": 1671898225392,
     "user": {
      "displayName": "İsmail Deha Köse",
      "userId": "09326867760017459570"
     },
     "user_tz": -60
    },
    "id": "_4K7xEYH3fx8"
   },
   "outputs": [],
   "source": [
    "!pip install jovian --upgrade -q"
   ]
  },
  {
   "cell_type": "code",
   "execution_count": 17,
   "metadata": {
    "executionInfo": {
     "elapsed": 8,
     "status": "ok",
     "timestamp": 1671898225393,
     "user": {
      "displayName": "İsmail Deha Köse",
      "userId": "09326867760017459570"
     },
     "user_tz": -60
    },
    "id": "04-TWJ-O3fx9"
   },
   "outputs": [],
   "source": [
    "import jovian"
   ]
  },
  {
   "cell_type": "code",
   "execution_count": 18,
   "metadata": {
    "colab": {
     "base_uri": "https://localhost:8080/"
    },
    "executionInfo": {
     "elapsed": 424,
     "status": "ok",
     "timestamp": 1671898225811,
     "user": {
      "displayName": "İsmail Deha Köse",
      "userId": "09326867760017459570"
     },
     "user_tz": -60
    },
    "id": "Ycz08PJT3fx9",
    "outputId": "9c72ccc1-d8bd-4d3b-df61-e2be7ce8b99e"
   },
   "outputs": [
    {
     "name": "stdout",
     "output_type": "stream",
     "text": [
      "[jovian] Detected Colab notebook...\u001b[0m\n",
      "[jovian] jovian.commit() is no longer required on Google Colab. If you ran this notebook from Jovian, \n",
      "then just save this file in Colab using Ctrl+S/Cmd+S and it will be updated on Jovian. \n",
      "Also, you can also delete this cell, it's no longer necessary.\u001b[0m\n"
     ]
    }
   ],
   "source": [
    "jovian.commit()"
   ]
  },
  {
   "cell_type": "markdown",
   "metadata": {
    "id": "vMAwOp2i3fx-"
   },
   "source": [
    "## Step 2: Prepare the dataset for training\n",
    "\n",
    "We need to convert the data from the Pandas dataframe into a PyTorch tensors for training. To do this, the first step is to convert it numpy arrays. If you've filled out `input_cols`, `categorial_cols` and `output_cols` correctly, this following function will perform the conversion to numpy arrays."
   ]
  },
  {
   "cell_type": "code",
   "execution_count": 19,
   "metadata": {
    "executionInfo": {
     "elapsed": 33,
     "status": "ok",
     "timestamp": 1671898225812,
     "user": {
      "displayName": "İsmail Deha Köse",
      "userId": "09326867760017459570"
     },
     "user_tz": -60
    },
    "id": "bjyKeQkk3fx-"
   },
   "outputs": [],
   "source": [
    "def dataframe_to_arrays(dataframe):\n",
    "    # Make a copy of the original dataframe\n",
    "    dataframe1 = dataframe.copy(deep=True)\n",
    "    # Convert non-numeric categorical columns to numbers\n",
    "    dataframe1[\"sex\"]=dataframe1.sex.astype('category').cat.codes\n",
    "    dataframe1[\"smoker\"]=dataframe1.smoker.astype('category').cat.codes\n",
    "    \n",
    "                  #for col in categorical_cols:\n",
    "                      #dataframe1[col] = dataframe1[col].astype('category').cat.codes\n",
    "                      \n",
    "    # Extract input & outupts as numpy arrays\n",
    "    inputs_array = dataframe1[input_cols].to_numpy()\n",
    "    targets_array = dataframe1[output_cols].to_numpy()\n",
    "    return inputs_array, targets_array"
   ]
  },
  {
   "cell_type": "markdown",
   "metadata": {
    "id": "LCs-Vx3D3fx-"
   },
   "source": [
    "Read through the [Pandas documentation](https://pandas.pydata.org/pandas-docs/stable/user_guide/categorical.html) to understand how we're converting categorical variables into numbers."
   ]
  },
  {
   "cell_type": "code",
   "execution_count": 20,
   "metadata": {
    "colab": {
     "base_uri": "https://localhost:8080/"
    },
    "executionInfo": {
     "elapsed": 34,
     "status": "ok",
     "timestamp": 1671898225813,
     "user": {
      "displayName": "İsmail Deha Köse",
      "userId": "09326867760017459570"
     },
     "user_tz": -60
    },
    "id": "ZUyRJstK3fx-",
    "outputId": "9a3d5685-a004-4a74-c6dc-409c4c46298b"
   },
   "outputs": [
    {
     "data": {
      "text/plain": [
       "(array([[52.     ,  1.     , 42.27975,  2.     ,  0.     ],\n",
       "        [51.     ,  1.     , 41.3655 ,  1.     ,  0.     ],\n",
       "        [34.     ,  1.     , 39.3415 ,  0.     ,  0.     ],\n",
       "        ...,\n",
       "        [19.     ,  1.     , 38.065  ,  0.     ,  0.     ],\n",
       "        [22.     ,  0.     , 23.27025,  0.     ,  0.     ],\n",
       "        [27.     ,  0.     , 23.05175,  3.     ,  1.     ]]),\n",
       " array([[28849.1361333],\n",
       "        [10230.915817 ],\n",
       "        [ 4289.346091 ],\n",
       "        ...,\n",
       "        [25160.4213097],\n",
       "        [ 2755.3223285],\n",
       "        [17898.3390595]]))"
      ]
     },
     "execution_count": 20,
     "metadata": {},
     "output_type": "execute_result"
    }
   ],
   "source": [
    "inputs_array, targets_array = dataframe_to_arrays(dataframe)\n",
    "inputs_array, targets_array"
   ]
  },
  {
   "cell_type": "markdown",
   "metadata": {
    "id": "iOK9fSIA3fx_"
   },
   "source": [
    "**Q6: Convert the numpy arrays `inputs_array` and `targets_array` into PyTorch tensors. Make sure that the data type is `torch.float32`.**"
   ]
  },
  {
   "cell_type": "code",
   "execution_count": 21,
   "metadata": {
    "executionInfo": {
     "elapsed": 29,
     "status": "ok",
     "timestamp": 1671898225814,
     "user": {
      "displayName": "İsmail Deha Köse",
      "userId": "09326867760017459570"
     },
     "user_tz": -60
    },
    "id": "pc9Q-jMd3fyA"
   },
   "outputs": [],
   "source": [
    "inputs = torch.tensor(inputs_array, dtype=torch.float32)\n",
    "targets = torch.tensor(targets_array, dtype=torch.float32)"
   ]
  },
  {
   "cell_type": "code",
   "execution_count": 22,
   "metadata": {
    "colab": {
     "base_uri": "https://localhost:8080/"
    },
    "executionInfo": {
     "elapsed": 29,
     "status": "ok",
     "timestamp": 1671898225814,
     "user": {
      "displayName": "İsmail Deha Köse",
      "userId": "09326867760017459570"
     },
     "user_tz": -60
    },
    "id": "ooa-2gck3fyA",
    "outputId": "383e47bc-6cc2-4aed-8178-50d462802bbf"
   },
   "outputs": [
    {
     "data": {
      "text/plain": [
       "(torch.float32, torch.float32)"
      ]
     },
     "execution_count": 22,
     "metadata": {},
     "output_type": "execute_result"
    }
   ],
   "source": [
    "inputs.dtype, targets.dtype"
   ]
  },
  {
   "cell_type": "markdown",
   "metadata": {
    "id": "3mNj61Ar3fyB"
   },
   "source": [
    "Next, we need to create PyTorch datasets & data loaders for training & validation. We'll start by creating a `TensorDataset`."
   ]
  },
  {
   "cell_type": "code",
   "execution_count": 23,
   "metadata": {
    "executionInfo": {
     "elapsed": 24,
     "status": "ok",
     "timestamp": 1671898225814,
     "user": {
      "displayName": "İsmail Deha Köse",
      "userId": "09326867760017459570"
     },
     "user_tz": -60
    },
    "id": "_0gGp4Rd3fyI"
   },
   "outputs": [],
   "source": [
    "dataset = TensorDataset(inputs, targets)"
   ]
  },
  {
   "cell_type": "markdown",
   "metadata": {
    "id": "eHOVNSP63fyI"
   },
   "source": [
    "**Q7: Pick a number between `0.1` and `0.2` to determine the fraction of data that will be used for creating the validation set. Then use `random_split` to create training & validation datasets.**"
   ]
  },
  {
   "cell_type": "code",
   "execution_count": 24,
   "metadata": {
    "colab": {
     "base_uri": "https://localhost:8080/"
    },
    "executionInfo": {
     "elapsed": 24,
     "status": "ok",
     "timestamp": 1671898225815,
     "user": {
      "displayName": "İsmail Deha Köse",
      "userId": "09326867760017459570"
     },
     "user_tz": -60
    },
    "id": "_gNQH8U63fyJ",
    "outputId": "1b2d0bc3-615b-4236-e33b-589b6014c8f1"
   },
   "outputs": [
    {
     "name": "stdout",
     "output_type": "stream",
     "text": [
      "ds_size = 1271, train_size = 1017, val_size = 254\n"
     ]
    }
   ],
   "source": [
    "val_percent = 0.2 # between 0.1 and 0.2\n",
    "val_size = int(num_rows * val_percent)\n",
    "train_size = num_rows - val_size\n",
    "\n",
    "train_ds, val_ds = random_split(dataset,[train_size,val_size]) # Use the random_split function to split dataset into 2 parts of the desired length\n",
    "print(\"ds_size = {}, train_size = {}, val_size = {}\".format(len(dataset), train_size, val_size))"
   ]
  },
  {
   "cell_type": "markdown",
   "metadata": {
    "id": "0Urm3NSX3fyJ"
   },
   "source": [
    "Finally, we can create data loaders for training & validation.\n",
    "\n",
    "**Q8: Pick a batch size for the data loader.**"
   ]
  },
  {
   "cell_type": "code",
   "execution_count": 25,
   "metadata": {
    "executionInfo": {
     "elapsed": 20,
     "status": "ok",
     "timestamp": 1671898225815,
     "user": {
      "displayName": "İsmail Deha Köse",
      "userId": "09326867760017459570"
     },
     "user_tz": -60
    },
    "id": "5H16bzmo3fyK"
   },
   "outputs": [],
   "source": [
    "batch_size = 20 #dataseti batch_size'ye eşit olacak şekilde gruplara böleceğiz"
   ]
  },
  {
   "cell_type": "code",
   "execution_count": 26,
   "metadata": {
    "executionInfo": {
     "elapsed": 21,
     "status": "ok",
     "timestamp": 1671898225816,
     "user": {
      "displayName": "İsmail Deha Köse",
      "userId": "09326867760017459570"
     },
     "user_tz": -60
    },
    "id": "NkgeBonk3fyK"
   },
   "outputs": [],
   "source": [
    "train_loader = DataLoader(train_ds, batch_size, shuffle=True)\n",
    "val_loader = DataLoader(val_ds, batch_size)"
   ]
  },
  {
   "cell_type": "markdown",
   "metadata": {
    "id": "R3weyJqf3fyK"
   },
   "source": [
    "Let's look at a batch of data to verify everything is working fine so far."
   ]
  },
  {
   "cell_type": "code",
   "execution_count": 27,
   "metadata": {
    "colab": {
     "base_uri": "https://localhost:8080/"
    },
    "executionInfo": {
     "elapsed": 20,
     "status": "ok",
     "timestamp": 1671898225816,
     "user": {
      "displayName": "İsmail Deha Köse",
      "userId": "09326867760017459570"
     },
     "user_tz": -60
    },
    "id": "i5xcp80O3fyL",
    "outputId": "f8f46b67-25d6-4af3-bd2e-215f709b5304"
   },
   "outputs": [
    {
     "name": "stdout",
     "output_type": "stream",
     "text": [
      "inputs: tensor([[35.0000,  1.0000, 44.3900,  1.0000,  0.0000],\n",
      "        [25.0000,  0.0000, 47.5238,  0.0000,  0.0000],\n",
      "        [35.0000,  0.0000, 41.2390,  2.0000,  0.0000],\n",
      "        [19.0000,  1.0000, 40.1350,  0.0000,  1.0000],\n",
      "        [33.0000,  1.0000, 48.8290,  1.0000,  0.0000],\n",
      "        [29.0000,  0.0000, 23.2703,  2.0000,  0.0000],\n",
      "        [47.0000,  0.0000, 39.0023,  3.0000,  0.0000],\n",
      "        [43.0000,  0.0000, 39.7670,  1.0000,  0.0000],\n",
      "        [41.0000,  0.0000, 37.0300,  1.0000,  0.0000],\n",
      "        [23.0000,  0.0000, 45.1605,  2.0000,  0.0000],\n",
      "        [49.0000,  0.0000, 35.3970,  1.0000,  0.0000],\n",
      "        [19.0000,  1.0000, 31.7400,  0.0000,  0.0000],\n",
      "        [50.0000,  0.0000, 36.3400,  2.0000,  0.0000],\n",
      "        [43.0000,  0.0000, 40.9860,  1.0000,  0.0000],\n",
      "        [56.0000,  0.0000, 48.1965,  0.0000,  0.0000],\n",
      "        [61.0000,  1.0000, 32.5565,  1.0000,  1.0000],\n",
      "        [19.0000,  0.0000, 36.5988,  1.0000,  0.0000],\n",
      "        [56.0000,  0.0000, 41.1700,  1.0000,  0.0000],\n",
      "        [56.0000,  1.0000, 38.6745,  0.0000,  1.0000],\n",
      "        [29.0000,  1.0000, 36.9265,  2.0000,  0.0000]])\n",
      "targets: tensor([[ 5190.9385],\n",
      "        [19488.0020],\n",
      "        [ 6361.8071],\n",
      "        [37963.2344],\n",
      "        [12346.1191],\n",
      "        [ 5347.9863],\n",
      "        [11025.3594],\n",
      "        [ 8422.7061],\n",
      "        [ 7385.7974],\n",
      "        [ 3815.6675],\n",
      "        [10658.3984],\n",
      "        [ 1365.1237],\n",
      "        [11029.0820],\n",
      "        [ 8006.8418],\n",
      "        [12092.0488],\n",
      "        [31466.8438],\n",
      "        [ 2964.0149],\n",
      "        [12724.8018],\n",
      "        [47874.0898],\n",
      "        [ 4832.9683]])\n"
     ]
    }
   ],
   "source": [
    "for xb, yb in train_loader: #ilk batch'ı yazdırıyoruz\n",
    "    print(\"inputs:\", xb)\n",
    "    print(\"targets:\", yb)\n",
    "    break"
   ]
  },
  {
   "cell_type": "markdown",
   "metadata": {
    "id": "Nm43Oh8m3fyL"
   },
   "source": [
    "Let's save our work by committing to Jovian."
   ]
  },
  {
   "cell_type": "code",
   "execution_count": 28,
   "metadata": {
    "colab": {
     "base_uri": "https://localhost:8080/"
    },
    "executionInfo": {
     "elapsed": 16,
     "status": "ok",
     "timestamp": 1671898225817,
     "user": {
      "displayName": "İsmail Deha Köse",
      "userId": "09326867760017459570"
     },
     "user_tz": -60
    },
    "id": "TtM8rTu33fyL",
    "outputId": "a863d8d9-6b6a-4f6f-820a-95f071fa9079"
   },
   "outputs": [
    {
     "name": "stdout",
     "output_type": "stream",
     "text": [
      "[jovian] Detected Colab notebook...\u001b[0m\n",
      "[jovian] jovian.commit() is no longer required on Google Colab. If you ran this notebook from Jovian, \n",
      "then just save this file in Colab using Ctrl+S/Cmd+S and it will be updated on Jovian. \n",
      "Also, you can also delete this cell, it's no longer necessary.\u001b[0m\n"
     ]
    }
   ],
   "source": [
    "jovian.commit(project=project_name, environment=None)"
   ]
  },
  {
   "cell_type": "markdown",
   "metadata": {
    "id": "j38hTXFA3fyM"
   },
   "source": [
    "## Step 3: Create a Linear Regression Model\n",
    "\n",
    "Our model itself is a fairly straightforward linear regression (we'll build more complex models in the next assignment). \n"
   ]
  },
  {
   "cell_type": "code",
   "execution_count": 29,
   "metadata": {
    "colab": {
     "base_uri": "https://localhost:8080/"
    },
    "executionInfo": {
     "elapsed": 309,
     "status": "ok",
     "timestamp": 1671898226115,
     "user": {
      "displayName": "İsmail Deha Köse",
      "userId": "09326867760017459570"
     },
     "user_tz": -60
    },
    "id": "I74DKllB3fyM",
    "outputId": "8c4b8d5d-0a2d-46f4-b0af-b32a79b5f9ae"
   },
   "outputs": [
    {
     "name": "stdout",
     "output_type": "stream",
     "text": [
      "Input size= 5    output size= 1\n"
     ]
    }
   ],
   "source": [
    "input_size = len(input_cols)\n",
    "output_size = len(output_cols)\n",
    "\n",
    "print(\"Input size=\",input_size,\"  \",\"output size=\",output_size)"
   ]
  },
  {
   "cell_type": "markdown",
   "metadata": {
    "id": "ePyp3Zzm3fyN"
   },
   "source": [
    "**Q9: Complete the class definition below by filling out the constructor (`__init__`), `forward`, `training_step` and `validation_step` methods.**\n",
    "\n",
    "Hint: Think carefully about picking a good loss fuction (it's not cross entropy). Maybe try 2-3 of them and see which one works best. See https://pytorch.org/docs/stable/nn.functional.html#loss-functions"
   ]
  },
  {
   "cell_type": "code",
   "execution_count": 30,
   "metadata": {
    "executionInfo": {
     "elapsed": 24,
     "status": "ok",
     "timestamp": 1671898226116,
     "user": {
      "displayName": "İsmail Deha Köse",
      "userId": "09326867760017459570"
     },
     "user_tz": -60
    },
    "id": "nJj2rKu33fyO"
   },
   "outputs": [],
   "source": [
    "class InsuranceModel(nn.Module):\n",
    "    def __init__(self):\n",
    "        super().__init__()\n",
    "        self.linear = nn.Linear(input_size,output_size)                 # fill this (hint: use input_size & output_size defined above)\n",
    "        \n",
    "    def forward(self, xb):\n",
    "        out = self.linear(xb)                          # fill this\n",
    "        return out\n",
    "    \n",
    "    def training_step(self, batch):\n",
    "        inputs, targets = batch \n",
    "        # Generate predictions\n",
    "        out = self(inputs)          \n",
    "        # Calcuate loss\n",
    "        loss = F.mse_loss(out,targets)                          # fill this\n",
    "        return loss\n",
    "    \n",
    "    def validation_step(self, batch):\n",
    "        inputs, targets = batch\n",
    "        # Generate predictions\n",
    "        out = self(inputs)\n",
    "        # Calculate loss\n",
    "        loss = F.mse_loss(out,targets)                            # fill this    \n",
    "        return {'val_loss': loss.detach()}\n",
    "        \n",
    "    def validation_epoch_end(self, outputs):\n",
    "        batch_losses = [x['val_loss'] for x in outputs]\n",
    "        epoch_loss = torch.stack(batch_losses).mean()   # Combine losses\n",
    "        return {'val_loss': epoch_loss.item()}\n",
    "    \n",
    "    def epoch_end(self, epoch, result, num_epochs):\n",
    "        # Print result every 20th epoch\n",
    "        if (epoch+1) % 20 == 0 or epoch == num_epochs-1:\n",
    "            print(\"Epoch [{}], val_loss: {:.4f}\".format(epoch+1, result['val_loss']))"
   ]
  },
  {
   "cell_type": "markdown",
   "metadata": {
    "id": "hLyVcM9O3fyP"
   },
   "source": [
    "Let us create a model using the `InsuranceModel` class. You may need to come back later and re-run the next cell to reinitialize the model, in case the loss becomes `nan` or `infinity`."
   ]
  },
  {
   "cell_type": "code",
   "execution_count": 31,
   "metadata": {
    "executionInfo": {
     "elapsed": 23,
     "status": "ok",
     "timestamp": 1671898226116,
     "user": {
      "displayName": "İsmail Deha Köse",
      "userId": "09326867760017459570"
     },
     "user_tz": -60
    },
    "id": "t-U-2UGM3fyP"
   },
   "outputs": [],
   "source": [
    "model = InsuranceModel()"
   ]
  },
  {
   "cell_type": "markdown",
   "metadata": {
    "id": "-NOp4UJ13fyQ"
   },
   "source": [
    "Let's check out the weights and biases of the model using `model.parameters`."
   ]
  },
  {
   "cell_type": "code",
   "execution_count": 32,
   "metadata": {
    "colab": {
     "base_uri": "https://localhost:8080/"
    },
    "executionInfo": {
     "elapsed": 24,
     "status": "ok",
     "timestamp": 1671898226117,
     "user": {
      "displayName": "İsmail Deha Köse",
      "userId": "09326867760017459570"
     },
     "user_tz": -60
    },
    "id": "eDQLUKwy3fyQ",
    "outputId": "27c2966c-4440-4dce-8bb1-fb58ef655a75"
   },
   "outputs": [
    {
     "data": {
      "text/plain": [
       "[Parameter containing:\n",
       " tensor([[ 0.0530, -0.1133,  0.0015, -0.3909,  0.1275]], requires_grad=True),\n",
       " Parameter containing:\n",
       " tensor([-0.3925], requires_grad=True)]"
      ]
     },
     "execution_count": 32,
     "metadata": {},
     "output_type": "execute_result"
    }
   ],
   "source": [
    "list(model.parameters())"
   ]
  },
  {
   "cell_type": "markdown",
   "metadata": {
    "id": "VVrqOXbI3fyQ"
   },
   "source": [
    "One final commit before we train the model."
   ]
  },
  {
   "cell_type": "code",
   "execution_count": 33,
   "metadata": {
    "colab": {
     "base_uri": "https://localhost:8080/"
    },
    "executionInfo": {
     "elapsed": 20,
     "status": "ok",
     "timestamp": 1671898226118,
     "user": {
      "displayName": "İsmail Deha Köse",
      "userId": "09326867760017459570"
     },
     "user_tz": -60
    },
    "id": "lSEq7lNw3fyR",
    "outputId": "0a082f42-0a98-4785-bccc-1bc210953cb5"
   },
   "outputs": [
    {
     "name": "stdout",
     "output_type": "stream",
     "text": [
      "[jovian] Detected Colab notebook...\u001b[0m\n",
      "[jovian] jovian.commit() is no longer required on Google Colab. If you ran this notebook from Jovian, \n",
      "then just save this file in Colab using Ctrl+S/Cmd+S and it will be updated on Jovian. \n",
      "Also, you can also delete this cell, it's no longer necessary.\u001b[0m\n"
     ]
    }
   ],
   "source": [
    "jovian.commit(project=project_name, environment=None)"
   ]
  },
  {
   "cell_type": "markdown",
   "metadata": {
    "id": "zqwmCvaw3fyS"
   },
   "source": [
    "## Step 4: Train the model to fit the data\n",
    "\n",
    "To train our model, we'll use the same `fit` function explained in the lecture. That's the benefit of defining a generic training loop - you can use it for any problem."
   ]
  },
  {
   "cell_type": "code",
   "execution_count": 34,
   "metadata": {
    "executionInfo": {
     "elapsed": 16,
     "status": "ok",
     "timestamp": 1671898226119,
     "user": {
      "displayName": "İsmail Deha Köse",
      "userId": "09326867760017459570"
     },
     "user_tz": -60
    },
    "id": "BJZ8lyLM3fyS"
   },
   "outputs": [],
   "source": [
    "def evaluate(model, val_loader):\n",
    "    outputs = [model.validation_step(batch) for batch in val_loader]\n",
    "    return model.validation_epoch_end(outputs)\n",
    "\n",
    "def fit(epochs, lr, model, train_loader, val_loader, opt_func=torch.optim.SGD):\n",
    "    history = []\n",
    "    optimizer = opt_func(model.parameters(), lr)\n",
    "    for epoch in range(epochs):\n",
    "        # Training Phase \n",
    "        for batch in train_loader:\n",
    "            loss = model.training_step(batch)\n",
    "            loss.backward()\n",
    "            optimizer.step()\n",
    "            optimizer.zero_grad()\n",
    "        # Validation phase\n",
    "        result = evaluate(model, val_loader)\n",
    "        model.epoch_end(epoch, result, epochs)\n",
    "        history.append(result)\n",
    "    return history"
   ]
  },
  {
   "cell_type": "markdown",
   "metadata": {
    "id": "w-AYl3Te3fyT"
   },
   "source": [
    "**Q10: Use the `evaluate` function to calculate the loss on the validation set before training.**"
   ]
  },
  {
   "cell_type": "code",
   "execution_count": 35,
   "metadata": {
    "colab": {
     "base_uri": "https://localhost:8080/"
    },
    "executionInfo": {
     "elapsed": 15,
     "status": "ok",
     "timestamp": 1671898226119,
     "user": {
      "displayName": "İsmail Deha Köse",
      "userId": "09326867760017459570"
     },
     "user_tz": -60
    },
    "id": "da5Ov7UI3fyT",
    "outputId": "41b8e734-9d74-4cc0-f497-c1e556a55c68"
   },
   "outputs": [
    {
     "name": "stdout",
     "output_type": "stream",
     "text": [
      "{'val_loss': 401782400.0}\n"
     ]
    }
   ],
   "source": [
    "result = evaluate(model,val_loader) # Use the the evaluate function\n",
    "print(result)"
   ]
  },
  {
   "cell_type": "markdown",
   "metadata": {
    "id": "PKMhUVyu3fyU"
   },
   "source": [
    "\n",
    "We are now ready to train the model. You may need to run the training loop many times, for different number of epochs and with different learning rates, to get a good result. Also, if your loss becomes too large (or `nan`), you may have to re-initialize the model by running the cell `model = InsuranceModel()`. Experiment with this for a while, and try to get to as low a loss as possible."
   ]
  },
  {
   "cell_type": "markdown",
   "metadata": {
    "id": "QMicMB9T3fyU"
   },
   "source": [
    "**Q11: Train the model 4-5 times with different learning rates & for different number of epochs.**\n",
    "\n",
    "Hint: Vary learning rates by orders of 10 (e.g. `1e-2`, `1e-3`, `1e-4`, `1e-5`, `1e-6`) to figure out what works."
   ]
  },
  {
   "cell_type": "code",
   "execution_count": 36,
   "metadata": {
    "colab": {
     "base_uri": "https://localhost:8080/"
    },
    "executionInfo": {
     "elapsed": 10748,
     "status": "ok",
     "timestamp": 1671898236856,
     "user": {
      "displayName": "İsmail Deha Köse",
      "userId": "09326867760017459570"
     },
     "user_tz": -60
    },
    "id": "fuSbs-uM3fyU",
    "outputId": "5dfce644-b865-482d-e0de-53712c70dbc9"
   },
   "outputs": [
    {
     "name": "stdout",
     "output_type": "stream",
     "text": [
      "Epoch [20], val_loss: 155786640.0000\n",
      "Epoch [40], val_loss: 154921232.0000\n",
      "Epoch [60], val_loss: 154355568.0000\n",
      "Epoch [80], val_loss: 153852176.0000\n",
      "Epoch [100], val_loss: 152973600.0000\n",
      "Epoch [120], val_loss: 152143280.0000\n",
      "Epoch [140], val_loss: 151415744.0000\n",
      "Epoch [160], val_loss: 151321376.0000\n",
      "Epoch [180], val_loss: 150143840.0000\n",
      "Epoch [200], val_loss: 149894576.0000\n"
     ]
    }
   ],
   "source": [
    "epochs = 200\n",
    "lr = 1e-5\n",
    "history1 = fit(epochs, lr, model, train_loader, val_loader)"
   ]
  },
  {
   "cell_type": "code",
   "execution_count": 37,
   "metadata": {
    "colab": {
     "base_uri": "https://localhost:8080/"
    },
    "executionInfo": {
     "elapsed": 8569,
     "status": "ok",
     "timestamp": 1671898245415,
     "user": {
      "displayName": "İsmail Deha Köse",
      "userId": "09326867760017459570"
     },
     "user_tz": -60
    },
    "id": "jil1Vf783fyU",
    "outputId": "a783ed7d-1be9-4468-a7b3-7bd4596b8e5d"
   },
   "outputs": [
    {
     "name": "stdout",
     "output_type": "stream",
     "text": [
      "Epoch [20], val_loss: 149493872.0000\n",
      "Epoch [40], val_loss: 149441872.0000\n",
      "Epoch [60], val_loss: 149323680.0000\n",
      "Epoch [80], val_loss: 149309504.0000\n",
      "Epoch [100], val_loss: 149221456.0000\n",
      "Epoch [120], val_loss: 149170448.0000\n",
      "Epoch [140], val_loss: 149057008.0000\n",
      "Epoch [160], val_loss: 149027600.0000\n",
      "Epoch [180], val_loss: 148950944.0000\n",
      "Epoch [200], val_loss: 148866992.0000\n"
     ]
    }
   ],
   "source": [
    "epochs = 200\n",
    "lr = 1e-6\n",
    "history2 = fit(epochs, lr, model, train_loader, val_loader)"
   ]
  },
  {
   "cell_type": "code",
   "execution_count": 38,
   "metadata": {
    "colab": {
     "base_uri": "https://localhost:8080/"
    },
    "executionInfo": {
     "elapsed": 11218,
     "status": "ok",
     "timestamp": 1671898256628,
     "user": {
      "displayName": "İsmail Deha Köse",
      "userId": "09326867760017459570"
     },
     "user_tz": -60
    },
    "id": "5ycBWEn53fyV",
    "outputId": "c3f2fc04-bbc6-4590-ee71-909298d2f1d8"
   },
   "outputs": [
    {
     "name": "stdout",
     "output_type": "stream",
     "text": [
      "Epoch [20], val_loss: 148865760.0000\n",
      "Epoch [40], val_loss: 148865024.0000\n",
      "Epoch [60], val_loss: 148861376.0000\n",
      "Epoch [80], val_loss: 148857856.0000\n",
      "Epoch [100], val_loss: 148851728.0000\n",
      "Epoch [120], val_loss: 148842672.0000\n",
      "Epoch [140], val_loss: 148835664.0000\n",
      "Epoch [160], val_loss: 148828896.0000\n",
      "Epoch [180], val_loss: 148822640.0000\n",
      "Epoch [200], val_loss: 148815376.0000\n"
     ]
    }
   ],
   "source": [
    "epochs = 200\n",
    "lr = 1e-7\n",
    "history3 = fit(epochs, lr, model, train_loader, val_loader)"
   ]
  },
  {
   "cell_type": "code",
   "execution_count": 39,
   "metadata": {
    "colab": {
     "base_uri": "https://localhost:8080/"
    },
    "executionInfo": {
     "elapsed": 11993,
     "status": "ok",
     "timestamp": 1671898268616,
     "user": {
      "displayName": "İsmail Deha Köse",
      "userId": "09326867760017459570"
     },
     "user_tz": -60
    },
    "id": "_ieTX4LC3fyV",
    "outputId": "06088390-7242-4276-a206-e17dd9bd7934"
   },
   "outputs": [
    {
     "name": "stdout",
     "output_type": "stream",
     "text": [
      "Epoch [20], val_loss: 148814784.0000\n",
      "Epoch [40], val_loss: 148814224.0000\n",
      "Epoch [60], val_loss: 148813504.0000\n",
      "Epoch [80], val_loss: 148812864.0000\n",
      "Epoch [100], val_loss: 148812080.0000\n",
      "Epoch [120], val_loss: 148811408.0000\n",
      "Epoch [140], val_loss: 148810656.0000\n",
      "Epoch [160], val_loss: 148809984.0000\n",
      "Epoch [180], val_loss: 148809488.0000\n",
      "Epoch [200], val_loss: 148808976.0000\n"
     ]
    }
   ],
   "source": [
    "epochs = 200\n",
    "lr = 1e-8\n",
    "history4 = fit(epochs, lr, model, train_loader, val_loader)"
   ]
  },
  {
   "cell_type": "code",
   "execution_count": 40,
   "metadata": {
    "colab": {
     "base_uri": "https://localhost:8080/"
    },
    "executionInfo": {
     "elapsed": 5446,
     "status": "ok",
     "timestamp": 1671898274056,
     "user": {
      "displayName": "İsmail Deha Köse",
      "userId": "09326867760017459570"
     },
     "user_tz": -60
    },
    "id": "EdX5qdy63fyV",
    "outputId": "e6392f33-4bee-413c-af8d-669f8618addf"
   },
   "outputs": [
    {
     "name": "stdout",
     "output_type": "stream",
     "text": [
      "Epoch [20], val_loss: 148808992.0000\n",
      "Epoch [40], val_loss: 148809008.0000\n",
      "Epoch [60], val_loss: 148808992.0000\n",
      "Epoch [80], val_loss: 148808992.0000\n",
      "Epoch [100], val_loss: 148808960.0000\n",
      "Epoch [120], val_loss: 148808976.0000\n",
      "Epoch [140], val_loss: 148808992.0000\n",
      "Epoch [160], val_loss: 148808960.0000\n",
      "Epoch [180], val_loss: 148808976.0000\n",
      "Epoch [200], val_loss: 148808992.0000\n"
     ]
    }
   ],
   "source": [
    "epochs = 200\n",
    "lr = 1e-9\n",
    "history5 = fit(epochs, lr, model, train_loader, val_loader)"
   ]
  },
  {
   "cell_type": "markdown",
   "metadata": {
    "id": "nuT5Myj63fyW"
   },
   "source": [
    "**Q12: What is the final validation loss of your model?**"
   ]
  },
  {
   "cell_type": "code",
   "execution_count": 41,
   "metadata": {
    "executionInfo": {
     "elapsed": 16,
     "status": "ok",
     "timestamp": 1671898274057,
     "user": {
      "displayName": "İsmail Deha Köse",
      "userId": "09326867760017459570"
     },
     "user_tz": -60
    },
    "id": "odHgE4DY3fyW"
   },
   "outputs": [],
   "source": [
    "val_loss = evaluate(model, val_loader)"
   ]
  },
  {
   "cell_type": "markdown",
   "metadata": {
    "id": "VWv9r0WD3fyW"
   },
   "source": [
    "Let's log the final validation loss to Jovian and commit the notebook"
   ]
  },
  {
   "cell_type": "code",
   "execution_count": 42,
   "metadata": {
    "colab": {
     "base_uri": "https://localhost:8080/"
    },
    "executionInfo": {
     "elapsed": 15,
     "status": "ok",
     "timestamp": 1671898274058,
     "user": {
      "displayName": "İsmail Deha Köse",
      "userId": "09326867760017459570"
     },
     "user_tz": -60
    },
    "id": "ySfesO9P3fyX",
    "outputId": "9753749a-d880-41b4-fead-7dc6fa61b9e6"
   },
   "outputs": [
    {
     "name": "stdout",
     "output_type": "stream",
     "text": [
      "[jovian] Metrics logged.\u001b[0m\n"
     ]
    }
   ],
   "source": [
    "jovian.log_metrics(val_loss=val_loss)"
   ]
  },
  {
   "cell_type": "code",
   "execution_count": 43,
   "metadata": {
    "colab": {
     "base_uri": "https://localhost:8080/"
    },
    "executionInfo": {
     "elapsed": 15,
     "status": "ok",
     "timestamp": 1671898274059,
     "user": {
      "displayName": "İsmail Deha Köse",
      "userId": "09326867760017459570"
     },
     "user_tz": -60
    },
    "id": "nbEevTZI3fyX",
    "outputId": "2ecf8cec-724c-49fe-ab79-474c219c2a5c"
   },
   "outputs": [
    {
     "name": "stdout",
     "output_type": "stream",
     "text": [
      "[jovian] Detected Colab notebook...\u001b[0m\n",
      "[jovian] jovian.commit() is no longer required on Google Colab. If you ran this notebook from Jovian, \n",
      "then just save this file in Colab using Ctrl+S/Cmd+S and it will be updated on Jovian. \n",
      "Also, you can also delete this cell, it's no longer necessary.\u001b[0m\n"
     ]
    }
   ],
   "source": [
    "jovian.commit(project=project_name, environment=None)"
   ]
  },
  {
   "cell_type": "markdown",
   "metadata": {
    "id": "NST_FP083fyX"
   },
   "source": [
    "Now scroll back up, re-initialize the model, and try different set of values for batch size, number of epochs, learning rate etc. Commit each experiment and use the \"Compare\" and \"View Diff\" options on Jovian to compare the different results."
   ]
  },
  {
   "cell_type": "markdown",
   "metadata": {
    "id": "lrPq2Ptx3fyY"
   },
   "source": [
    "## Step 5: Make predictions using the trained model\n",
    "\n",
    "**Q13: Complete the following function definition to make predictions on a single input**"
   ]
  },
  {
   "cell_type": "code",
   "execution_count": 44,
   "metadata": {
    "executionInfo": {
     "elapsed": 415,
     "status": "ok",
     "timestamp": 1671898274465,
     "user": {
      "displayName": "İsmail Deha Köse",
      "userId": "09326867760017459570"
     },
     "user_tz": -60
    },
    "id": "9q2-7tBg3fyY"
   },
   "outputs": [],
   "source": [
    "def predict_single(input, target, model):\n",
    "    inputs = input.unsqueeze(0)\n",
    "    predictions = model(input)               # fill this\n",
    "    prediction = predictions[0].detach()\n",
    "    print(\"Input:\", input)\n",
    "    print(\"Target:\", target)\n",
    "    print(\"Prediction:\", prediction)"
   ]
  },
  {
   "cell_type": "code",
   "execution_count": 45,
   "metadata": {
    "colab": {
     "base_uri": "https://localhost:8080/"
    },
    "executionInfo": {
     "elapsed": 35,
     "status": "ok",
     "timestamp": 1671898274466,
     "user": {
      "displayName": "İsmail Deha Köse",
      "userId": "09326867760017459570"
     },
     "user_tz": -60
    },
    "id": "cHZkCqd-3fyZ",
    "outputId": "1d00d4ac-d57e-43dd-e5da-194955ef1b13"
   },
   "outputs": [
    {
     "name": "stdout",
     "output_type": "stream",
     "text": [
      "Input: tensor([19.0000,  0.0000, 28.4050,  0.0000,  0.0000])\n",
      "Target: tensor([1893.7399])\n",
      "Prediction: tensor(8712.2676)\n"
     ]
    }
   ],
   "source": [
    "input, target = val_ds[0]\n",
    "predict_single(input, target, model)"
   ]
  },
  {
   "cell_type": "code",
   "execution_count": 46,
   "metadata": {
    "colab": {
     "base_uri": "https://localhost:8080/"
    },
    "executionInfo": {
     "elapsed": 34,
     "status": "ok",
     "timestamp": 1671898274468,
     "user": {
      "displayName": "İsmail Deha Köse",
      "userId": "09326867760017459570"
     },
     "user_tz": -60
    },
    "id": "DAtZgo5O3fyZ",
    "outputId": "892c7c7d-57c9-4494-fed9-b3d8372a414c"
   },
   "outputs": [
    {
     "name": "stdout",
     "output_type": "stream",
     "text": [
      "Input: tensor([18.0000,  1.0000, 33.7755,  1.0000,  0.0000])\n",
      "Target: tensor([1874.1855])\n",
      "Prediction: tensor(9651.7344)\n"
     ]
    }
   ],
   "source": [
    "input, target = val_ds[10]\n",
    "predict_single(input, target, model)"
   ]
  },
  {
   "cell_type": "code",
   "execution_count": 47,
   "metadata": {
    "colab": {
     "base_uri": "https://localhost:8080/"
    },
    "executionInfo": {
     "elapsed": 30,
     "status": "ok",
     "timestamp": 1671898274470,
     "user": {
      "displayName": "İsmail Deha Köse",
      "userId": "09326867760017459570"
     },
     "user_tz": -60
    },
    "id": "GRC7IKLR3fyZ",
    "outputId": "e0a661b0-a4b1-404a-b94c-b79c5bc35d90"
   },
   "outputs": [
    {
     "name": "stdout",
     "output_type": "stream",
     "text": [
      "Input: tensor([28.0000,  0.0000, 38.4100,  0.0000,  0.0000])\n",
      "Target: tensor([3457.4995])\n",
      "Prediction: tensor(12289.2773)\n"
     ]
    }
   ],
   "source": [
    "input, target = val_ds[23]\n",
    "predict_single(input, target, model)"
   ]
  },
  {
   "cell_type": "markdown",
   "metadata": {
    "id": "wNMRLPAx3fya"
   },
   "source": [
    "Are you happy with your model's predictions? Try to improve them further."
   ]
  },
  {
   "cell_type": "markdown",
   "metadata": {
    "id": "0LEZsp0e3fya"
   },
   "source": [
    "## (Optional) Step 6: Try another dataset & blog about it\n",
    "\n",
    "While this last step is optional for the submission of your assignment, we highly recommend that you do it. Try to replicate this notebook for a different linear regression or logistic regression problem. This will help solidify your understanding, and give you a chance to differentiate the generic patterns in machine learning from problem-specific details.You can use one of these starer notebooks (just change the dataset):\n",
    "\n",
    "- Linear regression (minimal): https://jovian.ai/aakashns/housing-linear-minimal\n",
    "- Logistic regression (minimal): https://jovian.ai/aakashns/mnist-logistic-minimal\n",
    "\n",
    "Here are some sources to find good datasets:\n",
    "\n",
    "- https://lionbridge.ai/datasets/10-open-datasets-for-linear-regression/\n",
    "- https://www.kaggle.com/rtatman/datasets-for-regression-analysis\n",
    "- https://archive.ics.uci.edu/ml/datasets.php?format=&task=reg&att=&area=&numAtt=&numIns=&type=&sort=nameUp&view=table\n",
    "- https://people.sc.fsu.edu/~jburkardt/datasets/regression/regression.html\n",
    "- https://archive.ics.uci.edu/ml/datasets/wine+quality\n",
    "- https://pytorch.org/docs/stable/torchvision/datasets.html\n",
    "\n",
    "We also recommend that you write a blog about your approach to the problem. Here is a suggested structure for your post (feel free to experiment with it):\n",
    "\n",
    "- Interesting title & subtitle\n",
    "- Overview of what the blog covers (which dataset, linear regression or logistic regression, intro to PyTorch)\n",
    "- Downloading & exploring the data\n",
    "- Preparing the data for training\n",
    "- Creating a model using PyTorch\n",
    "- Training the model to fit the data\n",
    "- Your thoughts on how to experiment with different hyperparmeters to reduce loss\n",
    "- Making predictions using the model\n",
    "\n",
    "As with the previous assignment, you can [embed Juptyer notebook cells & outputs from Jovian](https://medium.com/jovianml/share-and-embed-jupyter-notebooks-online-with-jovian-ml-df709a03064e) into your blog. \n",
    "\n",
    "Don't forget to share your work on the forum: https://jovian.ai/forum/t/linear-regression-and-logistic-regression-notebooks-and-blog-posts/14039"
   ]
  },
  {
   "cell_type": "code",
   "execution_count": 48,
   "metadata": {
    "colab": {
     "base_uri": "https://localhost:8080/"
    },
    "executionInfo": {
     "elapsed": 26,
     "status": "ok",
     "timestamp": 1671898274471,
     "user": {
      "displayName": "İsmail Deha Köse",
      "userId": "09326867760017459570"
     },
     "user_tz": -60
    },
    "id": "CTid3TbU3fya",
    "outputId": "510ce7b2-e169-4ab4-85db-ba349d1ec2ae"
   },
   "outputs": [
    {
     "name": "stdout",
     "output_type": "stream",
     "text": [
      "[jovian] Detected Colab notebook...\u001b[0m\n",
      "[jovian] jovian.commit() is no longer required on Google Colab. If you ran this notebook from Jovian, \n",
      "then just save this file in Colab using Ctrl+S/Cmd+S and it will be updated on Jovian. \n",
      "Also, you can also delete this cell, it's no longer necessary.\u001b[0m\n",
      "[jovian] Detected Colab notebook...\u001b[0m\n",
      "[jovian] jovian.commit() is no longer required on Google Colab. If you ran this notebook from Jovian, \n",
      "then just save this file in Colab using Ctrl+S/Cmd+S and it will be updated on Jovian. \n",
      "Also, you can also delete this cell, it's no longer necessary.\u001b[0m\n"
     ]
    }
   ],
   "source": [
    "jovian.commit(project=project_name, environment=None)\n",
    "jovian.commit(project=project_name, environment=None) # try again, kaggle fails sometimes"
   ]
  },
  {
   "cell_type": "code",
   "execution_count": 48,
   "metadata": {
    "executionInfo": {
     "elapsed": 21,
     "status": "ok",
     "timestamp": 1671898274472,
     "user": {
      "displayName": "İsmail Deha Köse",
      "userId": "09326867760017459570"
     },
     "user_tz": -60
    },
    "id": "L7smnOFp3fyb"
   },
   "outputs": [],
   "source": []
  }
 ],
 "metadata": {
  "colab": {
   "provenance": []
  },
  "language_info": {
   "codemirror_mode": {
    "name": "ipython",
    "version": 3
   },
   "file_extension": ".py",
   "mimetype": "text/x-python",
   "name": "python",
   "nbconvert_exporter": "python",
   "pygments_lexer": "ipython3",
   "version": "3.9.6"
  }
 },
 "nbformat": 4,
 "nbformat_minor": 0
}