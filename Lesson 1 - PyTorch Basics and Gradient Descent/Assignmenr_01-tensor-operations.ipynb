{
 "cells": [
  {
   "cell_type": "markdown",
   "metadata": {
    "id": "FF29U-gNlNa1"
   },
   "source": [
    "> ### Assignment Instructions (delete this cell before submission)\n",
    "> \n",
    "> The objective of this assignment is to develop a solid understanding of PyTorch tensors. In this assignment you will:\n",
    ">\n",
    "> 1. Pick 5 interesting functions related to PyTorch tensors by [reading the documentation](https://pytorch.org/docs/stable/torch.html), \n",
    "> 2. Edit this starter template notebook to illustrate their usage and publish your notebook to Jovian using `jovian.commit`. Make sure to add proper explanations too, not just code.\n",
    "> 3. Submit the link to your published notebook on Jovian here: https://jovian.ai/learn/deep-learning-with-pytorch-zero-to-gans/assignment/assignment-1-all-about-torch-tensor .\n",
    "> 4. (Optional) Write a blog post on [Medium](https://medium.com) to accompany and showcase your Jupyter notebook. [Embed cells from your notebook](https://medium.com/@aakashns/share-and-embed-jupyter-notebooks-online-with-jovian-ml-df709a03064e) wherever necessary.\n",
    "> 5. (Optional) [Share your work](https://jovian.ai/forum/t/pytorch-functions-and-tensor-operations/13790) with the community and exchange feedback with other participants\n",
    ">\n",
    ">\n",
    "> The recommended way to run this notebook is to click the \"Run\" button at the top of this page, and select \"Run on Colab\". Run `jovian.commit` regularly to save your progress.\n",
    "> \n",
    "> Try to give your notebook an interesting title e.g. \"All about PyTorch tensor operations\", \"5 PyTorch functions you didn't know you needed\", \"A beginner's guide to Autograd in PyToch\", \"Interesting ways to create PyTorch tensors\", \"Trigonometic functions in PyTorch\", \"How to use PyTorch tensors for Linear Algebra\" etc.\n",
    ">\n",
    "> **IMPORTANT NOTE**: Make sure to submit a Jovian notebook link e.g. https://jovian.ai/aakashns/01-tensor-operations . Colab links will not be accepted.\n",
    ">\n",
    "> Remove this cell containing instructions before making a submission or sharing your notebook, to make it more presentable.\n",
    ">\n",
    "\n"
   ]
  },
  {
   "cell_type": "markdown",
   "metadata": {
    "id": "HwCIBochlNa5"
   },
   "source": [
    "# Title Here\n",
    "\n",
    "An short introduction about PyTorch and about the chosen functions. \n",
    "\n",
    "- function 1\n",
    "- function 2\n",
    "- function 3\n",
    "- function 4\n",
    "- function 5\n",
    "\n",
    "Before we begin, let's install and import PyTorch"
   ]
  },
  {
   "cell_type": "code",
   "execution_count": null,
   "metadata": {
    "id": "wZbvU6YAlNa7"
   },
   "outputs": [],
   "source": [
    "# Uncomment and run the appropriate command for your operating system, if required\n",
    "\n",
    "# Linux / Binder\n",
    "# !pip install numpy torch==1.7.0+cpu torchvision==0.8.1+cpu torchaudio==0.7.0 -f https://download.pytorch.org/whl/torch_stable.html\n",
    "\n",
    "# Windows\n",
    "# !pip install numpy torch==1.7.0+cpu torchvision==0.8.1+cpu torchaudio==0.7.0 -f https://download.pytorch.org/whl/torch_stable.html\n",
    "\n",
    "# MacOS\n",
    "# !pip install numpy torch torchvision torchaudio"
   ]
  },
  {
   "cell_type": "code",
   "execution_count": 2,
   "metadata": {
    "executionInfo": {
     "elapsed": 3684,
     "status": "ok",
     "timestamp": 1671658303226,
     "user": {
      "displayName": "İsmail Deha Köse",
      "userId": "09326867760017459570"
     },
     "user_tz": -60
    },
    "id": "Qu4NuRnnlNa8"
   },
   "outputs": [],
   "source": [
    "# Import torch and other required modules\n",
    "import torch"
   ]
  },
  {
   "cell_type": "markdown",
   "metadata": {
    "id": "KlSmMSUwlNa-"
   },
   "source": [
    "## Function 1 - torch.poisson(input, generator=None)\n",
    "\n",
    "Regenerate the tensor via poission distribution\n",
    "\n",
    "Parameters:\n",
    "\n",
    "input (Tensor) – the input tensor containing the rates of the Poisson distribution\n",
    "\n",
    "generator (torch.Generator, optional) – a pseudorandom number generator for sampling"
   ]
  },
  {
   "cell_type": "code",
   "execution_count": 3,
   "metadata": {
    "colab": {
     "base_uri": "https://localhost:8080/"
    },
    "executionInfo": {
     "elapsed": 375,
     "status": "ok",
     "timestamp": 1671658307402,
     "user": {
      "displayName": "İsmail Deha Köse",
      "userId": "09326867760017459570"
     },
     "user_tz": -60
    },
    "id": "o1DQ7X61lNa-",
    "outputId": "d57ad381-0e0a-4fb4-c9a5-4867411da226"
   },
   "outputs": [
    {
     "data": {
      "text/plain": [
       "tensor([[0., 3.],\n",
       "        [2., 7.]])"
      ]
     },
     "execution_count": 3,
     "metadata": {},
     "output_type": "execute_result"
    }
   ],
   "source": [
    "# Example 1 - working (change this)\n",
    "numbers=torch.tensor([[1, 2], [3, 4.]])\n",
    "torch.poisson(numbers)"
   ]
  },
  {
   "cell_type": "markdown",
   "metadata": {
    "id": "4o-2ab-ZlNbA"
   },
   "source": [
    "Regenerate given integer tensor"
   ]
  },
  {
   "cell_type": "code",
   "execution_count": 8,
   "metadata": {
    "colab": {
     "base_uri": "https://localhost:8080/"
    },
    "executionInfo": {
     "elapsed": 238,
     "status": "ok",
     "timestamp": 1671658590222,
     "user": {
      "displayName": "İsmail Deha Köse",
      "userId": "09326867760017459570"
     },
     "user_tz": -60
    },
    "id": "GjoNMPNPlNbA",
    "outputId": "c4fa7296-1aed-499e-e8ce-f815f6d168e4"
   },
   "outputs": [
    {
     "name": "stdout",
     "output_type": "stream",
     "text": [
      "tensor([[0.0299, 4.7903, 2.1471, 2.3098],\n",
      "        [3.1266, 0.7673, 0.7152, 3.8741],\n",
      "        [1.0392, 3.8037, 0.4117, 1.4577],\n",
      "        [3.4352, 0.3071, 0.8692, 0.1889]])\n"
     ]
    },
    {
     "data": {
      "text/plain": [
       "tensor([[0., 5., 1., 3.],\n",
       "        [3., 0., 0., 6.],\n",
       "        [0., 2., 2., 3.],\n",
       "        [4., 0., 0., 0.]])"
      ]
     },
     "execution_count": 8,
     "metadata": {},
     "output_type": "execute_result"
    }
   ],
   "source": [
    "rates = torch.rand(4, 4) * 5  # rate parameter between 0 and 5\n",
    "print(rates)\n",
    "torch.poisson(rates)"
   ]
  },
  {
   "cell_type": "markdown",
   "metadata": {
    "id": "mL-x6-5slNbD"
   },
   "source": [
    "Regenerate generated random tensor"
   ]
  },
  {
   "cell_type": "code",
   "execution_count": 11,
   "metadata": {
    "colab": {
     "base_uri": "https://localhost:8080/"
    },
    "executionInfo": {
     "elapsed": 243,
     "status": "ok",
     "timestamp": 1671658751679,
     "user": {
      "displayName": "İsmail Deha Köse",
      "userId": "09326867760017459570"
     },
     "user_tz": -60
    },
    "id": "Pw_nPp4olNbF",
    "outputId": "f44fffdf-3504-4417-9362-a2dee7b1bb29"
   },
   "outputs": [
    {
     "data": {
      "text/plain": [
       "tensor([[6., 0., 6.],\n",
       "        [2., 3., 2.],\n",
       "        [5., 3., 5.]])"
      ]
     },
     "execution_count": 11,
     "metadata": {},
     "output_type": "execute_result"
    }
   ],
   "source": [
    "rates_tens = torch.tensor([[4.1237, 1.8373, 3.2343],[2.3344, 3.3324, 1.3378], [3.2349, 2.4447, 4.5269]])\n",
    "torch.poisson(rates_tens)"
   ]
  },
  {
   "cell_type": "markdown",
   "metadata": {
    "id": "Sfr331-BlNbG"
   },
   "source": [
    "Regenerate given float tensor"
   ]
  },
  {
   "cell_type": "markdown",
   "metadata": {
    "id": "0wzQ90YnlNbI"
   },
   "source": [
    "\n",
    "\n",
    "The Poisson distribution is usually used for modeling the number of times an event occurs in an interval of time or space.\n"
   ]
  },
  {
   "cell_type": "markdown",
   "metadata": {
    "id": "8p1Ln0twlNbJ"
   },
   "source": [
    "Let's save our work using Jovian before continuing."
   ]
  },
  {
   "cell_type": "code",
   "execution_count": 12,
   "metadata": {
    "colab": {
     "base_uri": "https://localhost:8080/"
    },
    "executionInfo": {
     "elapsed": 5998,
     "status": "ok",
     "timestamp": 1671658960121,
     "user": {
      "displayName": "İsmail Deha Köse",
      "userId": "09326867760017459570"
     },
     "user_tz": -60
    },
    "id": "CVzT4YWrlNbK",
    "outputId": "216ebd41-b6b2-4396-894e-bea2850aea63"
   },
   "outputs": [
    {
     "name": "stdout",
     "output_type": "stream",
     "text": [
      "\u001b[?25l\r",
      "\u001b[K     |████▊                           | 10 kB 21.0 MB/s eta 0:00:01\r",
      "\u001b[K     |█████████▌                      | 20 kB 7.1 MB/s eta 0:00:01\r",
      "\u001b[K     |██████████████▎                 | 30 kB 10.0 MB/s eta 0:00:01\r",
      "\u001b[K     |███████████████████             | 40 kB 4.4 MB/s eta 0:00:01\r",
      "\u001b[K     |███████████████████████▉        | 51 kB 4.4 MB/s eta 0:00:01\r",
      "\u001b[K     |████████████████████████████▋   | 61 kB 5.1 MB/s eta 0:00:01\r",
      "\u001b[K     |████████████████████████████████| 68 kB 3.0 MB/s \n",
      "\u001b[?25h  Building wheel for uuid (setup.py) ... \u001b[?25l\u001b[?25hdone\n"
     ]
    }
   ],
   "source": [
    "!pip install jovian --upgrade --quiet"
   ]
  },
  {
   "cell_type": "code",
   "execution_count": 13,
   "metadata": {
    "executionInfo": {
     "elapsed": 439,
     "status": "ok",
     "timestamp": 1671658960553,
     "user": {
      "displayName": "İsmail Deha Köse",
      "userId": "09326867760017459570"
     },
     "user_tz": -60
    },
    "id": "sstPykr9lNbL"
   },
   "outputs": [],
   "source": [
    "import jovian"
   ]
  },
  {
   "cell_type": "code",
   "execution_count": 14,
   "metadata": {
    "colab": {
     "base_uri": "https://localhost:8080/"
    },
    "executionInfo": {
     "elapsed": 7,
     "status": "ok",
     "timestamp": 1671658960554,
     "user": {
      "displayName": "İsmail Deha Köse",
      "userId": "09326867760017459570"
     },
     "user_tz": -60
    },
    "id": "TGsXJ98glNbM",
    "outputId": "e6ee5f4d-4db1-4276-fdf1-d37ef6c7ae26"
   },
   "outputs": [
    {
     "name": "stdout",
     "output_type": "stream",
     "text": [
      "[jovian] Detected Colab notebook...\u001b[0m\n",
      "[jovian] jovian.commit() is no longer required on Google Colab. If you ran this notebook from Jovian, \n",
      "then just save this file in Colab using Ctrl+S/Cmd+S and it will be updated on Jovian. \n",
      "Also, you can also delete this cell, it's no longer necessary.\u001b[0m\n"
     ]
    }
   ],
   "source": [
    "jovian.commit(project='01-tensor-operations')"
   ]
  },
  {
   "cell_type": "markdown",
   "metadata": {
    "id": "eKzk2VKXlNbN"
   },
   "source": [
    "## Function 2 - torch.logspace(start, end, steps, base=10.0, *, out=None, dtype=None, layout=torch.strided, device=None, requires_grad=False)\n",
    "\n",
    "Creates one dimensional, size = step whose values are evenly spaced from start and end base.\n",
    "\n",
    "Paramaters :\n",
    "\n",
    "\n",
    "        start (float) – the starting value for the set of points\n",
    "\n",
    "        end (float) – the ending value for the set of points\n",
    "\n",
    "        steps (int) – size of the constructed tensor\n",
    "\n",
    "        base (float, optional) – base of the logarithm function. Default: 10.0.\n",
    "\n",
    "Arguments:\n",
    "\n",
    "\n",
    "\n",
    "        out (Tensor, optional) – the output tensor.\n",
    "\n",
    "        dtype (torch.dtype, optional) – the data type to perform the computation in. Default: if None, uses the global default dtype (see torch.get_default_dtype()) when both start and end are real, and corresponding complex dtype when either is complex.\n",
    "\n",
    "        layout (torch.layout, optional) – the desired layout of returned Tensor. Default: torch.strided.\n",
    "\n",
    "        device (torch.device, optional) – the desired device of returned tensor. Default: if None, uses the current device for the default tensor type (see torch.set_default_tensor_type()). device will be the CPU for CPU tensor types and the current CUDA device for CUDA tensor types.\n",
    "\n",
    "        requires_grad (bool, optional) – If autograd should record operations on the returned tensor. Default: False.\n",
    "\n",
    "\n",
    "\n"
   ]
  },
  {
   "cell_type": "code",
   "execution_count": 15,
   "metadata": {
    "colab": {
     "base_uri": "https://localhost:8080/"
    },
    "executionInfo": {
     "elapsed": 5,
     "status": "ok",
     "timestamp": 1671659479208,
     "user": {
      "displayName": "İsmail Deha Köse",
      "userId": "09326867760017459570"
     },
     "user_tz": -60
    },
    "id": "HTViYACDlNbO",
    "outputId": "3b492d3c-9876-4a06-ed19-33404beda404"
   },
   "outputs": [
    {
     "data": {
      "text/plain": [
       "tensor([1.0000e+00, 4.6416e+01, 2.1544e+03, 1.0000e+05, 4.6416e+06, 2.1544e+08,\n",
       "        1.0000e+10])"
      ]
     },
     "execution_count": 15,
     "metadata": {},
     "output_type": "execute_result"
    }
   ],
   "source": [
    "torch.logspace(0, 10, 7)"
   ]
  },
  {
   "cell_type": "markdown",
   "metadata": {
    "id": "7WxRIQwglNbP"
   },
   "source": [
    "Create one dimensional torch; size = 7 and base =10"
   ]
  },
  {
   "cell_type": "code",
   "execution_count": 16,
   "metadata": {
    "colab": {
     "base_uri": "https://localhost:8080/"
    },
    "executionInfo": {
     "elapsed": 381,
     "status": "ok",
     "timestamp": 1671659527982,
     "user": {
      "displayName": "İsmail Deha Köse",
      "userId": "09326867760017459570"
     },
     "user_tz": -60
    },
    "id": "97HJIayFlNbP",
    "outputId": "dea88014-1a3b-4ff4-850b-5b0f5d16f033"
   },
   "outputs": [
    {
     "data": {
      "text/plain": [
       "tensor([   8.0000,   26.9087,   90.5097,  304.4370, 1024.0000])"
      ]
     },
     "execution_count": 16,
     "metadata": {},
     "output_type": "execute_result"
    }
   ],
   "source": [
    "torch.logspace(3, 10, 5, base=2)"
   ]
  },
  {
   "cell_type": "markdown",
   "metadata": {
    "id": "O-yNBrCzlNbP"
   },
   "source": [
    "Create one dimensional torch; size = 5 and base =2"
   ]
  },
  {
   "cell_type": "code",
   "execution_count": 21,
   "metadata": {
    "colab": {
     "base_uri": "https://localhost:8080/"
    },
    "executionInfo": {
     "elapsed": 257,
     "status": "ok",
     "timestamp": 1671659766990,
     "user": {
      "displayName": "İsmail Deha Köse",
      "userId": "09326867760017459570"
     },
     "user_tz": -60
    },
    "id": "_c6Rdj7hlNbQ",
    "outputId": "ebba9490-c858-437e-9a04-924dfece6954"
   },
   "outputs": [
    {
     "data": {
      "text/plain": [
       "tensor([   8,   26,   90,  304, 1024])"
      ]
     },
     "execution_count": 21,
     "metadata": {},
     "output_type": "execute_result"
    }
   ],
   "source": [
    "torch.logspace(3,10,5,base=2,dtype=int)"
   ]
  },
  {
   "cell_type": "markdown",
   "metadata": {
    "id": "ydd3e6FTlNbQ"
   },
   "source": [
    "Create one dimensional torch; size = 5 and base =2 and data type is integer"
   ]
  },
  {
   "cell_type": "markdown",
   "metadata": {
    "id": "b_jisESblNbR"
   },
   "source": [
    "When using this function, you can generate the one dimensional torch. In this torch, dtype, start-end point, size and more options can being modified by the users. Also the torch is generated as logaritmic.\n",
    "\n"
   ]
  },
  {
   "cell_type": "code",
   "execution_count": 22,
   "metadata": {
    "colab": {
     "base_uri": "https://localhost:8080/"
    },
    "executionInfo": {
     "elapsed": 9,
     "status": "ok",
     "timestamp": 1671659969626,
     "user": {
      "displayName": "İsmail Deha Köse",
      "userId": "09326867760017459570"
     },
     "user_tz": -60
    },
    "id": "ozzDEAmilNbX",
    "outputId": "d64c789c-69de-4b95-e6e2-a676230357b4"
   },
   "outputs": [
    {
     "name": "stdout",
     "output_type": "stream",
     "text": [
      "[jovian] Detected Colab notebook...\u001b[0m\n",
      "[jovian] jovian.commit() is no longer required on Google Colab. If you ran this notebook from Jovian, \n",
      "then just save this file in Colab using Ctrl+S/Cmd+S and it will be updated on Jovian. \n",
      "Also, you can also delete this cell, it's no longer necessary.\u001b[0m\n"
     ]
    }
   ],
   "source": [
    "jovian.commit(project='01-tensor-operations')"
   ]
  },
  {
   "cell_type": "markdown",
   "metadata": {
    "id": "NoZY3jnflNbY"
   },
   "source": [
    "## Function 3 - torch.full_like(input, fill_value, \\*, dtype=None, layout=torch.strided, device=None, requires_grad=False, memory_format=torch.preserve_format)\n",
    "\n",
    "Function return a new array with the same shape and type as a given torch.\n",
    "\n",
    "\n",
    "Parameters :\n",
    "\n",
    "        input (Tensor) – the size of input will determine size of the output tensor.\n",
    "\n",
    "        fill_value – the number to fill the output tensor with.\n",
    "\n",
    "\n",
    "Arguments :\n",
    "\n",
    "        dtype (torch.dtype, optional) – the desired data type of returned Tensor. Default: if None, defaults to the dtype of input.\n",
    "\n",
    "        layout (torch.layout, optional) – the desired layout of returned tensor. Default: if None, defaults to the layout of input.\n",
    "\n",
    "        device (torch.device, optional) – the desired device of returned tensor. Default: if None, defaults to the device of input.\n",
    "\n",
    "        requires_grad (bool, optional) – If autograd should record operations on the returned tensor. Default: False.\n",
    "\n",
    "        memory_format (torch.memory_format, optional) – the desired memory format of returned Tensor. Default: torch.preserve_format.\n",
    "\n"
   ]
  },
  {
   "cell_type": "code",
   "execution_count": 23,
   "metadata": {
    "colab": {
     "base_uri": "https://localhost:8080/"
    },
    "executionInfo": {
     "elapsed": 240,
     "status": "ok",
     "timestamp": 1671660222617,
     "user": {
      "displayName": "İsmail Deha Köse",
      "userId": "09326867760017459570"
     },
     "user_tz": -60
    },
    "id": "IptWqqU_lNbZ",
    "outputId": "731e13ff-5f1a-4e04-acb9-34da11cb18e9"
   },
   "outputs": [
    {
     "data": {
      "text/plain": [
       "tensor([[5., 5., 5.],\n",
       "        [5., 5., 5.],\n",
       "        [5., 5., 5.]])"
      ]
     },
     "execution_count": 23,
     "metadata": {},
     "output_type": "execute_result"
    }
   ],
   "source": [
    "rates_tens = torch.tensor([[4.1237, 1.8373, 3.2343],[2.3344, 3.3324, 1.3378], [3.2349, 2.4447, 4.5269]])\n",
    "\n",
    "torch.full_like(rates_tens,5)"
   ]
  },
  {
   "cell_type": "markdown",
   "metadata": {
    "id": "8n_0APBblNbZ"
   },
   "source": [
    "Regenerate the given torch as 5 "
   ]
  },
  {
   "cell_type": "code",
   "execution_count": 34,
   "metadata": {
    "colab": {
     "base_uri": "https://localhost:8080/"
    },
    "executionInfo": {
     "elapsed": 250,
     "status": "ok",
     "timestamp": 1671660583790,
     "user": {
      "displayName": "İsmail Deha Köse",
      "userId": "09326867760017459570"
     },
     "user_tz": -60
    },
    "id": "_ksBFzT2lNbZ",
    "outputId": "04cc5f3c-4ec0-47e6-b9ed-0aa350b70585"
   },
   "outputs": [
    {
     "data": {
      "text/plain": [
       "tensor([[5, 5, 5],\n",
       "        [5, 5, 5]])"
      ]
     },
     "execution_count": 34,
     "metadata": {},
     "output_type": "execute_result"
    }
   ],
   "source": [
    "rates_tens = torch.tensor([[4.1237, 1.8373, 3.2343],[2.3344, 3.3324, 1.3378], [3.2349, 2.4447, 4.5269]])\n",
    "\n",
    "torch.full_like(rates_tens[0:2],5,dtype=int)"
   ]
  },
  {
   "cell_type": "markdown",
   "metadata": {
    "id": "H1tGA3QklNba"
   },
   "source": [
    "Regenerate the given torch's [0:2] as 5 "
   ]
  },
  {
   "cell_type": "code",
   "execution_count": 36,
   "metadata": {
    "colab": {
     "base_uri": "https://localhost:8080/"
    },
    "executionInfo": {
     "elapsed": 369,
     "status": "ok",
     "timestamp": 1671660664388,
     "user": {
      "displayName": "İsmail Deha Köse",
      "userId": "09326867760017459570"
     },
     "user_tz": -60
    },
    "id": "iymNaQVUlNba",
    "outputId": "6ed445da-2ec9-4696-8b53-d8c0e1d42619"
   },
   "outputs": [
    {
     "data": {
      "text/plain": [
       "tensor([[0],\n",
       "        [0],\n",
       "        [0]])"
      ]
     },
     "execution_count": 36,
     "metadata": {},
     "output_type": "execute_result"
    }
   ],
   "source": [
    "rates_tens = torch.tensor([[4.1237, 1.8373, 3.2343],[2.3344, 3.3324, 1.3378], [3.2349, 2.4447, 4.5269]])\n",
    "\n",
    "torch.full_like(rates_tens[:,1:2],0,dtype=int)"
   ]
  },
  {
   "cell_type": "markdown",
   "metadata": {
    "id": "m439lAXQlNbb"
   },
   "source": [
    "Regenerate the given torch's [:,1:2] as integer 0 "
   ]
  },
  {
   "cell_type": "markdown",
   "metadata": {
    "id": "RgEtuCMTlNbb"
   },
   "source": [
    "You can regenerate the torch as what you want. However, the best uses area is boolean or 0-1 padding. "
   ]
  },
  {
   "cell_type": "code",
   "execution_count": 38,
   "metadata": {
    "colab": {
     "base_uri": "https://localhost:8080/"
    },
    "executionInfo": {
     "elapsed": 5,
     "status": "ok",
     "timestamp": 1671660749928,
     "user": {
      "displayName": "İsmail Deha Köse",
      "userId": "09326867760017459570"
     },
     "user_tz": -60
    },
    "id": "9bCoQ6tnlNbb",
    "outputId": "bbc253e6-8a74-4362-aec7-1b823a66fec9"
   },
   "outputs": [
    {
     "name": "stdout",
     "output_type": "stream",
     "text": [
      "[jovian] Detected Colab notebook...\u001b[0m\n",
      "[jovian] jovian.commit() is no longer required on Google Colab. If you ran this notebook from Jovian, \n",
      "then just save this file in Colab using Ctrl+S/Cmd+S and it will be updated on Jovian. \n",
      "Also, you can also delete this cell, it's no longer necessary.\u001b[0m\n"
     ]
    }
   ],
   "source": [
    "jovian.commit(project='01-tensor-operations')"
   ]
  },
  {
   "cell_type": "markdown",
   "metadata": {
    "id": "cCpMIwKYlNbc"
   },
   "source": [
    "## Function 4 -  torch.Tensor.view(*shape)\n",
    "\n",
    "Returns a new tensor called view tensor, view tensor shares the same storage with the original tensor, view tensor's shape can be different from original tensor.\n"
   ]
  },
  {
   "cell_type": "code",
   "execution_count": 46,
   "metadata": {
    "colab": {
     "base_uri": "https://localhost:8080/"
    },
    "executionInfo": {
     "elapsed": 251,
     "status": "ok",
     "timestamp": 1671661023352,
     "user": {
      "displayName": "İsmail Deha Köse",
      "userId": "09326867760017459570"
     },
     "user_tz": -60
    },
    "id": "ojR95J64lNbc",
    "outputId": "0ea7e359-74c3-44d7-e0d4-c06b504e0cd1"
   },
   "outputs": [
    {
     "data": {
      "text/plain": [
       "tensor([[ 9.2333e-01,  7.2786e-01,  8.2120e-02, -1.6131e+00, -8.5079e-01,\n",
       "         -1.6466e+00],\n",
       "        [-1.1021e-02, -9.6561e-01, -7.5146e-01, -7.7894e-01, -2.5624e+00,\n",
       "          2.1994e-01],\n",
       "        [-2.7341e-01, -8.7429e-01, -1.3059e+00, -2.6084e+00,  3.4342e-01,\n",
       "         -1.7668e+00],\n",
       "        [-5.3424e-02,  2.5129e-01,  6.6230e-02,  9.5141e-01, -1.5337e+00,\n",
       "          3.7720e-02],\n",
       "        [ 8.8728e-01,  2.9656e+00,  7.3471e-01, -9.2928e-02, -1.6138e-03,\n",
       "          2.6200e-01]])"
      ]
     },
     "execution_count": 46,
     "metadata": {},
     "output_type": "execute_result"
    }
   ],
   "source": [
    "t = torch.randn(5,3,2)\n",
    "t\n",
    "t2 = t.view(5,6)\n",
    "t2"
   ]
  },
  {
   "cell_type": "markdown",
   "metadata": {
    "id": "VPubMHGqlNbd"
   },
   "source": [
    "Create a new torch.Tensor object with different size\n"
   ]
  },
  {
   "cell_type": "code",
   "execution_count": 47,
   "metadata": {
    "colab": {
     "base_uri": "https://localhost:8080/"
    },
    "executionInfo": {
     "elapsed": 247,
     "status": "ok",
     "timestamp": 1671661056935,
     "user": {
      "displayName": "İsmail Deha Köse",
      "userId": "09326867760017459570"
     },
     "user_tz": -60
    },
    "id": "RP8B7BdTlNbd",
    "outputId": "ea8566e5-8fc9-4fd7-e97c-3eac85ffeda6"
   },
   "outputs": [
    {
     "data": {
      "text/plain": [
       "tensor([[[ 1.0000e+00,  7.2786e-01],\n",
       "         [ 8.2120e-02, -1.6131e+00],\n",
       "         [-8.5079e-01, -1.6466e+00]],\n",
       "\n",
       "        [[-1.1021e-02, -9.6561e-01],\n",
       "         [-7.5146e-01, -7.7894e-01],\n",
       "         [-2.5624e+00,  2.1994e-01]],\n",
       "\n",
       "        [[-2.7341e-01, -8.7429e-01],\n",
       "         [-1.3059e+00, -2.6084e+00],\n",
       "         [ 3.4342e-01, -1.7668e+00]],\n",
       "\n",
       "        [[-5.3424e-02,  2.5129e-01],\n",
       "         [ 6.6230e-02,  9.5141e-01],\n",
       "         [-1.5337e+00,  3.7720e-02]],\n",
       "\n",
       "        [[ 8.8728e-01,  2.9656e+00],\n",
       "         [ 7.3471e-01, -9.2928e-02],\n",
       "         [-1.6138e-03,  2.6200e-01]]])"
      ]
     },
     "execution_count": 47,
     "metadata": {},
     "output_type": "execute_result"
    }
   ],
   "source": [
    "t2[0,0] = 1\n",
    "t"
   ]
  },
  {
   "cell_type": "markdown",
   "metadata": {
    "id": "X01L6uWRlNbd"
   },
   "source": [
    "Verify storage sharing feature"
   ]
  },
  {
   "cell_type": "code",
   "execution_count": 49,
   "metadata": {
    "colab": {
     "base_uri": "https://localhost:8080/"
    },
    "executionInfo": {
     "elapsed": 5,
     "status": "ok",
     "timestamp": 1671661092851,
     "user": {
      "displayName": "İsmail Deha Köse",
      "userId": "09326867760017459570"
     },
     "user_tz": -60
    },
    "id": "eP5gQ4x_lNbe",
    "outputId": "6262cc6b-f5be-4ffe-bde8-379e1416e942"
   },
   "outputs": [
    {
     "data": {
      "text/plain": [
       "False"
      ]
     },
     "execution_count": 49,
     "metadata": {},
     "output_type": "execute_result"
    }
   ],
   "source": [
    "t.view(5,6) == t.view(5,6)\n",
    "\n",
    "t.view(5,6) is t.view(5,6)\n",
    "\n"
   ]
  },
  {
   "cell_type": "markdown",
   "metadata": {
    "id": "JHVh7yDglNbe"
   },
   "source": [
    "Verify a new torch.Tensor is generated by every .view() call\n"
   ]
  },
  {
   "cell_type": "markdown",
   "metadata": {
    "id": "Mtol_lY2lNbe"
   },
   "source": [
    "Closing comments about when to use this function"
   ]
  },
  {
   "cell_type": "code",
   "execution_count": 50,
   "metadata": {
    "colab": {
     "base_uri": "https://localhost:8080/"
    },
    "executionInfo": {
     "elapsed": 269,
     "status": "ok",
     "timestamp": 1671661120525,
     "user": {
      "displayName": "İsmail Deha Köse",
      "userId": "09326867760017459570"
     },
     "user_tz": -60
    },
    "id": "gQczmGYelNbf",
    "outputId": "ae629776-9f3f-4305-f066-a1db89925390"
   },
   "outputs": [
    {
     "name": "stdout",
     "output_type": "stream",
     "text": [
      "[jovian] Detected Colab notebook...\u001b[0m\n",
      "[jovian] jovian.commit() is no longer required on Google Colab. If you ran this notebook from Jovian, \n",
      "then just save this file in Colab using Ctrl+S/Cmd+S and it will be updated on Jovian. \n",
      "Also, you can also delete this cell, it's no longer necessary.\u001b[0m\n"
     ]
    }
   ],
   "source": [
    "jovian.commit(project='01-tensor-operations')"
   ]
  },
  {
   "cell_type": "markdown",
   "metadata": {
    "id": "iXpYsJXolNbf"
   },
   "source": [
    "## Function 5 - normal_(mean=0, std=1, *, generator=None)\n",
    "\n",
    "In-place version of torch.normal()\n",
    "\n",
    "Fills self tensor with elements samples from the normal distribution parameterized by mean and std."
   ]
  },
  {
   "cell_type": "code",
   "execution_count": 51,
   "metadata": {
    "colab": {
     "base_uri": "https://localhost:8080/"
    },
    "executionInfo": {
     "elapsed": 255,
     "status": "ok",
     "timestamp": 1671661164507,
     "user": {
      "displayName": "İsmail Deha Köse",
      "userId": "09326867760017459570"
     },
     "user_tz": -60
    },
    "id": "S073jzkwlNbg",
    "outputId": "b13ed014-298b-4b5d-a818-a3e81cf7e966"
   },
   "outputs": [
    {
     "data": {
      "text/plain": [
       "tensor([[ 0.5048, -0.6318, -0.2326],\n",
       "        [-1.7804, -0.9126, -2.0034],\n",
       "        [-1.1425, -0.6389, -0.2205]])"
      ]
     },
     "execution_count": 51,
     "metadata": {},
     "output_type": "execute_result"
    }
   ],
   "source": [
    "t = torch.Tensor(3, 3)\n",
    "t.normal_() # Tensor.normal_(mean=0, std=1) "
   ]
  },
  {
   "cell_type": "markdown",
   "metadata": {
    "id": "K56IqfGblNbg"
   },
   "source": [
    "It creates a standard normal distribution with mean =0 and std=1\n"
   ]
  },
  {
   "cell_type": "code",
   "execution_count": 53,
   "metadata": {
    "colab": {
     "base_uri": "https://localhost:8080/"
    },
    "executionInfo": {
     "elapsed": 6,
     "status": "ok",
     "timestamp": 1671661183950,
     "user": {
      "displayName": "İsmail Deha Köse",
      "userId": "09326867760017459570"
     },
     "user_tz": -60
    },
    "id": "-qTgOhT4lNbg",
    "outputId": "b9ac8be8-e165-45ab-d72b-abc1e206f387"
   },
   "outputs": [
    {
     "data": {
      "text/plain": [
       "tensor([3.8186, 3.5840, 4.2089, 3.6279, 3.4345])"
      ]
     },
     "execution_count": 53,
     "metadata": {},
     "output_type": "execute_result"
    }
   ],
   "source": [
    "torch.empty(5).normal_(mean=4,std=0.5)"
   ]
  },
  {
   "cell_type": "markdown",
   "metadata": {
    "id": "PAPpumuilNbh"
   },
   "source": [
    "It create a matrix Z (a 1d tensor) of dimension 1 × 5, filled with random elements samples from the normal distribution parameterized by mean = 4 and std = 0.5."
   ]
  },
  {
   "cell_type": "code",
   "execution_count": 54,
   "metadata": {
    "colab": {
     "base_uri": "https://localhost:8080/"
    },
    "executionInfo": {
     "elapsed": 235,
     "status": "ok",
     "timestamp": 1671661319044,
     "user": {
      "displayName": "İsmail Deha Köse",
      "userId": "09326867760017459570"
     },
     "user_tz": -60
    },
    "id": "SRW7zfY2lNbh",
    "outputId": "70d18f23-a9f1-4f43-e207-9455682489b2"
   },
   "outputs": [
    {
     "data": {
      "text/plain": [
       "tensor([0.3066, 2.6217])"
      ]
     },
     "execution_count": 54,
     "metadata": {},
     "output_type": "execute_result"
    }
   ],
   "source": [
    "torch.empty(2).normal_(mean=2,std=1.5)"
   ]
  },
  {
   "cell_type": "markdown",
   "metadata": {
    "id": "D41nSQLMlNbi"
   },
   "source": [
    "t create a matrix Z (a 1d tensor) of dimension 1 × 2, filled with random elements samples from the normal distribution parameterized by mean = 2 and std = 1.5."
   ]
  },
  {
   "cell_type": "markdown",
   "metadata": {
    "id": "mHzuHNGklNbj"
   },
   "source": [
    "It helps to create standard normal distribution\n"
   ]
  },
  {
   "cell_type": "code",
   "execution_count": 56,
   "metadata": {
    "colab": {
     "base_uri": "https://localhost:8080/"
    },
    "executionInfo": {
     "elapsed": 266,
     "status": "ok",
     "timestamp": 1671661369334,
     "user": {
      "displayName": "İsmail Deha Köse",
      "userId": "09326867760017459570"
     },
     "user_tz": -60
    },
    "id": "rKSAoPxMlNbj",
    "outputId": "c77ccdd0-4b79-4064-b726-eb11bc0d8640"
   },
   "outputs": [
    {
     "name": "stdout",
     "output_type": "stream",
     "text": [
      "[jovian] Detected Colab notebook...\u001b[0m\n",
      "[jovian] jovian.commit() is no longer required on Google Colab. If you ran this notebook from Jovian, \n",
      "then just save this file in Colab using Ctrl+S/Cmd+S and it will be updated on Jovian. \n",
      "Also, you can also delete this cell, it's no longer necessary.\u001b[0m\n"
     ]
    }
   ],
   "source": [
    "jovian.commit(project='01-tensor-operations')"
   ]
  },
  {
   "cell_type": "markdown",
   "metadata": {
    "id": "dj8v1mRwlNbj"
   },
   "source": [
    "## Conclusion\n",
    "\n",
    "These are the 5 statistical PyTorch function that I find interesting as discussed above."
   ]
  },
  {
   "cell_type": "markdown",
   "metadata": {
    "id": "w0QFlEWJlNbk"
   },
   "source": [
    "## Reference Links\n",
    "Provide links to your references and other interesting articles about tensors\n",
    "* Official documentation for tensor operations: https://pytorch.org/docs/stable/torch.html\n",
    "* www.geeksforgeeks.org"
   ]
  },
  {
   "cell_type": "code",
   "execution_count": 57,
   "metadata": {
    "colab": {
     "base_uri": "https://localhost:8080/"
    },
    "executionInfo": {
     "elapsed": 323,
     "status": "ok",
     "timestamp": 1671661414371,
     "user": {
      "displayName": "İsmail Deha Köse",
      "userId": "09326867760017459570"
     },
     "user_tz": -60
    },
    "id": "Ts66Xxa3lNbk",
    "outputId": "83bb05a6-78c4-4e1f-c87b-46505200e4b7"
   },
   "outputs": [
    {
     "name": "stdout",
     "output_type": "stream",
     "text": [
      "[jovian] Detected Colab notebook...\u001b[0m\n",
      "[jovian] jovian.commit() is no longer required on Google Colab. If you ran this notebook from Jovian, \n",
      "then just save this file in Colab using Ctrl+S/Cmd+S and it will be updated on Jovian. \n",
      "Also, you can also delete this cell, it's no longer necessary.\u001b[0m\n"
     ]
    }
   ],
   "source": [
    "jovian.commit(project='01-tensor-operations')"
   ]
  },
  {
   "cell_type": "code",
   "execution_count": null,
   "metadata": {
    "id": "YjnohUyhlNbl"
   },
   "outputs": [],
   "source": []
  }
 ],
 "metadata": {
  "colab": {
   "provenance": []
  },
  "language_info": {
   "codemirror_mode": {
    "name": "ipython",
    "version": 3
   },
   "file_extension": ".py",
   "mimetype": "text/x-python",
   "name": "python",
   "nbconvert_exporter": "python",
   "pygments_lexer": "ipython3",
   "version": "3.8.5"
  }
 },
 "nbformat": 4,
 "nbformat_minor": 0
}